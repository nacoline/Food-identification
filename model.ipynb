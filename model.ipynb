{
 "cells": [
  {
   "cell_type": "markdown",
   "metadata": {
    "colab_type": "text",
    "id": "D_a2USyd4giE"
   },
   "source": [
    "# 课程设计 - Network Compression_1 (Architecuture Design)\n",
    "\n",
    "若有问题，请联系助教杜景锐、龚冬兴"
   ]
  },
  {
   "cell_type": "markdown",
   "metadata": {},
   "source": [
    "# 任务提示\n",
    "\n",
    "课程设计的任务是 - Neural Network Compression。\n",
    "Compression有很多种类型，在这里我们需要完成的是以下两种，分別是:\n",
    "\n",
    "* 知识蒸馏 Knowledge Distillation\n",
    "* 用少量参数来做CNN Architecture Design\n",
    "\n",
    "在这个notebook中我们会介绍MobileNet v1的Architecture Design。"
   ]
  },
  {
   "cell_type": "markdown",
   "metadata": {},
   "source": [
    "# Architecture Design\n",
    "\n",
    "## 几种卷积的实现细节\n",
    "```python\n",
    "# 一般的Convolution, weight大小 = in_chs * out_chs * kernel_size^2\n",
    "nn.Conv2d(in_chs, out_chs, kernel_size, stride, padding)\n",
    "\n",
    "# Group Convolution, Group数目可以自行控制，表示要分成几群。其中in_chs和out_chs必须要可以被groups整除。(不然沒办法分群。)\n",
    "nn.Conv2d(in_chs, out_chs, kernel_size, stride, padding, groups=groups)\n",
    "\n",
    "# Depthwise Convolution, 输入chs=输出chs=Groups数目, weight大小 = in_chs * kernel_size^2\n",
    "nn.Conv2d(in_chs, out_chs=in_chs, kernel_size, stride, padding, groups=in_chs)\n",
    "\n",
    "# Pointwise Convolution, 也就是1 by 1 convolution, weight大小 = in_chs * out_chs\n",
    "nn.Conv2d(in_chs, out_chs, 1)\n",
    "```"
   ]
  },
  {
   "cell_type": "markdown",
   "metadata": {},
   "source": [
    "**更新pip**"
   ]
  },
  {
   "cell_type": "code",
   "execution_count": 1,
   "metadata": {},
   "outputs": [
    {
     "name": "stdout",
     "output_type": "stream",
     "text": [
      "Looking in indexes: http://repo.myhuaweicloud.com/repository/pypi/simple\n",
      "Requirement already satisfied: pip in /home/ma-user/anaconda3/envs/PyTorch-1.8/lib/python3.7/site-packages (21.2.2)\n",
      "Collecting pip\n",
      "  Downloading http://repo.myhuaweicloud.com/repository/pypi/packages/96/2f/caec18213f6a67852f6997fb0673ae08d2e93d1b81573edb93ba4ef06970/pip-22.1.2-py3-none-any.whl (2.1 MB)\n",
      "\u001b[K     |████████████████████████████████| 2.1 MB 78.8 MB/s eta 0:00:01\n",
      "\u001b[?25hInstalling collected packages: pip\n",
      "  Attempting uninstall: pip\n",
      "    Found existing installation: pip 21.2.2\n",
      "    Uninstalling pip-21.2.2:\n",
      "      Successfully uninstalled pip-21.2.2\n",
      "Successfully installed pip-22.1.2\n",
      "Looking in indexes: http://repo.myhuaweicloud.com/repository/pypi/simple\n",
      "Collecting albumentations\n",
      "  Downloading http://repo.myhuaweicloud.com/repository/pypi/packages/70/15/cb9a2173255c44726ed8d0048a03bbe2b2c290d4dea51563e75de0ab5ea4/albumentations-1.2.0-py3-none-any.whl (113 kB)\n",
      "\u001b[2K     \u001b[90m━━━━━━━━━━━━━━━━━━━━━━━━━━━━━━━━━━━━━━━\u001b[0m \u001b[32m113.5/113.5 kB\u001b[0m \u001b[31m9.4 MB/s\u001b[0m eta \u001b[36m0:00:00\u001b[0m\n",
      "\u001b[?25hCollecting opencv-python-headless>=4.1.1\n",
      "  Downloading http://repo.myhuaweicloud.com/repository/pypi/packages/b8/c7/01e2d24aa3f4d4947147388278eed43c5a63ebc2f9b772f494eddf6b1ad7/opencv_python_headless-4.6.0.66-cp36-abi3-manylinux_2_17_x86_64.manylinux2014_x86_64.whl (48.3 MB)\n",
      "\u001b[2K     \u001b[90m━━━━━━━━━━━━━━━━━━━━━━━━━━━━━━━━━━━━━━━━\u001b[0m \u001b[32m48.3/48.3 MB\u001b[0m \u001b[31m39.6 MB/s\u001b[0m eta \u001b[36m0:00:00\u001b[0m00:01\u001b[0m00:01\u001b[0m\n",
      "\u001b[?25hRequirement already satisfied: scipy in /home/ma-user/anaconda3/envs/PyTorch-1.8/lib/python3.7/site-packages (from albumentations) (1.4.1)\n",
      "Collecting qudida>=0.0.4\n",
      "  Downloading http://repo.myhuaweicloud.com/repository/pypi/packages/f0/a1/a5f4bebaa31d109003909809d88aeb0d4b201463a9ea29308d9e4f9e7655/qudida-0.0.4-py3-none-any.whl (3.5 kB)\n",
      "Collecting scikit-image<0.19,>=0.16.1\n",
      "  Downloading http://repo.myhuaweicloud.com/repository/pypi/packages/91/62/2d8b24ba429b589b0491485478a0f11369938932aa938e052e38f6390d4d/scikit_image-0.18.3-cp37-cp37m-manylinux_2_5_x86_64.manylinux1_x86_64.whl (29.2 MB)\n",
      "\u001b[2K     \u001b[90m━━━━━━━━━━━━━━━━━━━━━━━━━━━━━━━━━━━━━━━━\u001b[0m \u001b[32m29.2/29.2 MB\u001b[0m \u001b[31m55.7 MB/s\u001b[0m eta \u001b[36m0:00:00\u001b[0m00:01\u001b[0m00:01\u001b[0m\n",
      "\u001b[?25hRequirement already satisfied: PyYAML in /home/ma-user/anaconda3/envs/PyTorch-1.8/lib/python3.7/site-packages (from albumentations) (5.1)\n",
      "Requirement already satisfied: numpy>=1.11.1 in /home/ma-user/anaconda3/envs/PyTorch-1.8/lib/python3.7/site-packages (from albumentations) (1.17.0)\n",
      "Requirement already satisfied: typing-extensions in /home/ma-user/anaconda3/envs/PyTorch-1.8/lib/python3.7/site-packages (from qudida>=0.0.4->albumentations) (4.2.0)\n",
      "Requirement already satisfied: scikit-learn>=0.19.1 in /home/ma-user/anaconda3/envs/PyTorch-1.8/lib/python3.7/site-packages (from qudida>=0.0.4->albumentations) (0.22.1)\n",
      "Requirement already satisfied: pillow!=7.1.0,!=7.1.1,>=4.3.0 in /home/ma-user/anaconda3/envs/PyTorch-1.8/lib/python3.7/site-packages (from scikit-image<0.19,>=0.16.1->albumentations) (6.2.0)\n",
      "Collecting imageio>=2.3.0\n",
      "  Downloading http://repo.myhuaweicloud.com/repository/pypi/packages/25/41/91f47808e99dd67bfc3aee53d0a7c8d10b01b221ca254bfd36cd51125866/imageio-2.19.2-py3-none-any.whl (3.4 MB)\n",
      "\u001b[2K     \u001b[90m━━━━━━━━━━━━━━━━━━━━━━━━━━━━━━━━━━━━━━━━\u001b[0m \u001b[32m3.4/3.4 MB\u001b[0m \u001b[31m28.3 MB/s\u001b[0m eta \u001b[36m0:00:00\u001b[0m00:01\u001b[0m00:01\u001b[0m\n",
      "\u001b[?25hCollecting PyWavelets>=1.1.1\n",
      "  Downloading http://repo.myhuaweicloud.com/repository/pypi/packages/ae/56/4441877073d8a5266dbf7b04c7f3dc66f1149c8efb9323e0ef987a9bb1ce/PyWavelets-1.3.0-cp37-cp37m-manylinux_2_5_x86_64.manylinux1_x86_64.manylinux_2_12_x86_64.manylinux2010_x86_64.whl (6.4 MB)\n",
      "\u001b[2K     \u001b[90m━━━━━━━━━━━━━━━━━━━━━━━━━━━━━━━━━━━━━━━━\u001b[0m \u001b[32m6.4/6.4 MB\u001b[0m \u001b[31m42.6 MB/s\u001b[0m eta \u001b[36m0:00:00\u001b[0m00:01\u001b[0m00:01\u001b[0m\n",
      "\u001b[?25hRequirement already satisfied: networkx>=2.0 in /home/ma-user/anaconda3/envs/PyTorch-1.8/lib/python3.7/site-packages (from scikit-image<0.19,>=0.16.1->albumentations) (2.6.3)\n",
      "Requirement already satisfied: matplotlib!=3.0.0,>=2.0.0 in /home/ma-user/anaconda3/envs/PyTorch-1.8/lib/python3.7/site-packages (from scikit-image<0.19,>=0.16.1->albumentations) (3.5.1)\n",
      "Collecting tifffile>=2019.7.26\n",
      "  Downloading http://repo.myhuaweicloud.com/repository/pypi/packages/d8/38/85ae5ed77598ca90558c17a2f79ddaba33173b31cf8d8f545d34d9134f0d/tifffile-2021.11.2-py3-none-any.whl (178 kB)\n",
      "\u001b[2K     \u001b[90m━━━━━━━━━━━━━━━━━━━━━━━━━━━━━━━━━━━━━━\u001b[0m \u001b[32m178.9/178.9 kB\u001b[0m \u001b[31m11.5 MB/s\u001b[0m eta \u001b[36m0:00:00\u001b[0m\n",
      "\u001b[?25hCollecting pillow!=7.1.0,!=7.1.1,>=4.3.0\n",
      "  Downloading http://repo.myhuaweicloud.com/repository/pypi/packages/96/82/0cbf62676f9d64dd0e73e1667ec6cc189bd52051ee85558081167010fdfa/Pillow-9.1.1-cp37-cp37m-manylinux_2_17_x86_64.manylinux2014_x86_64.whl (3.1 MB)\n",
      "\u001b[2K     \u001b[90m━━━━━━━━━━━━━━━━━━━━━━━━━━━━━━━━━━━━━━━━\u001b[0m \u001b[32m3.1/3.1 MB\u001b[0m \u001b[31m56.3 MB/s\u001b[0m eta \u001b[36m0:00:00\u001b[0m:00:01\u001b[0m\n",
      "\u001b[?25hRequirement already satisfied: python-dateutil>=2.7 in /home/ma-user/anaconda3/envs/PyTorch-1.8/lib/python3.7/site-packages (from matplotlib!=3.0.0,>=2.0.0->scikit-image<0.19,>=0.16.1->albumentations) (2.8.2)\n",
      "Requirement already satisfied: packaging>=20.0 in /home/ma-user/anaconda3/envs/PyTorch-1.8/lib/python3.7/site-packages (from matplotlib!=3.0.0,>=2.0.0->scikit-image<0.19,>=0.16.1->albumentations) (21.3)\n",
      "Requirement already satisfied: kiwisolver>=1.0.1 in /home/ma-user/anaconda3/envs/PyTorch-1.8/lib/python3.7/site-packages (from matplotlib!=3.0.0,>=2.0.0->scikit-image<0.19,>=0.16.1->albumentations) (1.4.2)\n",
      "Requirement already satisfied: cycler>=0.10 in /home/ma-user/anaconda3/envs/PyTorch-1.8/lib/python3.7/site-packages (from matplotlib!=3.0.0,>=2.0.0->scikit-image<0.19,>=0.16.1->albumentations) (0.11.0)\n",
      "Requirement already satisfied: fonttools>=4.22.0 in /home/ma-user/anaconda3/envs/PyTorch-1.8/lib/python3.7/site-packages (from matplotlib!=3.0.0,>=2.0.0->scikit-image<0.19,>=0.16.1->albumentations) (4.33.2)\n",
      "Requirement already satisfied: pyparsing>=2.2.1 in /home/ma-user/anaconda3/envs/PyTorch-1.8/lib/python3.7/site-packages (from matplotlib!=3.0.0,>=2.0.0->scikit-image<0.19,>=0.16.1->albumentations) (3.0.8)\n",
      "Collecting numpy>=1.11.1\n",
      "  Using cached http://repo.myhuaweicloud.com/repository/pypi/packages/6d/ad/ff3b21ebfe79a4d25b4a4f8e5cf9fd44a204adb6b33c09010f566f51027a/numpy-1.21.6-cp37-cp37m-manylinux_2_12_x86_64.manylinux2010_x86_64.whl (15.7 MB)\n",
      "Requirement already satisfied: joblib>=0.11 in /home/ma-user/anaconda3/envs/PyTorch-1.8/lib/python3.7/site-packages (from scikit-learn>=0.19.1->qudida>=0.0.4->albumentations) (1.1.0)\n",
      "Requirement already satisfied: six>=1.5 in /home/ma-user/anaconda3/envs/PyTorch-1.8/lib/python3.7/site-packages (from python-dateutil>=2.7->matplotlib!=3.0.0,>=2.0.0->scikit-image<0.19,>=0.16.1->albumentations) (1.16.0)\n",
      "Installing collected packages: pillow, numpy, tifffile, PyWavelets, opencv-python-headless, imageio, scikit-image, qudida, albumentations\n",
      "  Attempting uninstall: pillow\n",
      "    Found existing installation: Pillow 6.2.0\n",
      "    Uninstalling Pillow-6.2.0:\n",
      "      Successfully uninstalled Pillow-6.2.0\n",
      "  Attempting uninstall: numpy\n",
      "    Found existing installation: numpy 1.17.0\n",
      "    Uninstalling numpy-1.17.0:\n",
      "      Successfully uninstalled numpy-1.17.0\n",
      "\u001b[31mERROR: pip's dependency resolver does not currently take into account all the packages that are installed. This behaviour is the source of the following dependency conflicts.\n",
      "modelarts 1.4.6 requires Pillow<=9.0.1, but you have pillow 9.1.1 which is incompatible.\n",
      "modelarts 1.4.6 requires tqdm<=4.62.3, but you have tqdm 4.64.0 which is incompatible.\n",
      "modelarts 1.4.6 requires typing-extensions<=4.0.1, but you have typing-extensions 4.2.0 which is incompatible.\n",
      "ma-cau 1.1.3 requires tenacity<=6.1.0, but you have tenacity 8.0.1 which is incompatible.\u001b[0m\u001b[31m\n",
      "\u001b[0mSuccessfully installed PyWavelets-1.3.0 albumentations-1.2.0 imageio-2.19.2 numpy-1.21.6 opencv-python-headless-4.6.0.66 pillow-9.1.1 qudida-0.0.4 scikit-image-0.18.3 tifffile-2021.11.2\n",
      "Looking in indexes: http://repo.myhuaweicloud.com/repository/pypi/simple\n",
      "Collecting timm\n",
      "  Downloading http://repo.myhuaweicloud.com/repository/pypi/packages/49/65/a83208746dc9c0d70feff7874b49780ff110810feb528df4b0ecadcbee60/timm-0.5.4-py3-none-any.whl (431 kB)\n",
      "\u001b[2K     \u001b[90m━━━━━━━━━━━━━━━━━━━━━━━━━━━━━━━━━━━━━━\u001b[0m \u001b[32m431.5/431.5 kB\u001b[0m \u001b[31m39.1 MB/s\u001b[0m eta \u001b[36m0:00:00\u001b[0m\n",
      "\u001b[?25hRequirement already satisfied: torch>=1.4 in /home/ma-user/anaconda3/envs/PyTorch-1.8/lib/python3.7/site-packages (from timm) (1.8.0)\n",
      "Requirement already satisfied: torchvision in /home/ma-user/anaconda3/envs/PyTorch-1.8/lib/python3.7/site-packages (from timm) (0.9.0)\n",
      "Requirement already satisfied: typing-extensions in /home/ma-user/anaconda3/envs/PyTorch-1.8/lib/python3.7/site-packages (from torch>=1.4->timm) (4.2.0)\n",
      "Requirement already satisfied: numpy in /home/ma-user/anaconda3/envs/PyTorch-1.8/lib/python3.7/site-packages (from torch>=1.4->timm) (1.21.6)\n",
      "Requirement already satisfied: pillow>=4.1.1 in /home/ma-user/anaconda3/envs/PyTorch-1.8/lib/python3.7/site-packages (from torchvision->timm) (9.1.1)\n",
      "Installing collected packages: timm\n",
      "Successfully installed timm-0.5.4\n",
      "Looking in indexes: http://repo.myhuaweicloud.com/repository/pypi/simple\n",
      "Collecting torchsummary\n",
      "  Downloading http://repo.myhuaweicloud.com/repository/pypi/packages/7d/18/1474d06f721b86e6a9b9d7392ad68bed711a02f3b61ac43f13c719db50a6/torchsummary-1.5.1-py3-none-any.whl (2.8 kB)\n",
      "Installing collected packages: torchsummary\n",
      "Successfully installed torchsummary-1.5.1\n",
      "Looking in indexes: http://repo.myhuaweicloud.com/repository/pypi/simple\n",
      "Requirement already satisfied: matplotlib in /home/ma-user/anaconda3/envs/PyTorch-1.8/lib/python3.7/site-packages (3.5.1)\n",
      "Requirement already satisfied: cycler>=0.10 in /home/ma-user/anaconda3/envs/PyTorch-1.8/lib/python3.7/site-packages (from matplotlib) (0.11.0)\n",
      "Requirement already satisfied: kiwisolver>=1.0.1 in /home/ma-user/anaconda3/envs/PyTorch-1.8/lib/python3.7/site-packages (from matplotlib) (1.4.2)\n",
      "Requirement already satisfied: numpy>=1.17 in /home/ma-user/anaconda3/envs/PyTorch-1.8/lib/python3.7/site-packages (from matplotlib) (1.21.6)\n",
      "Requirement already satisfied: pillow>=6.2.0 in /home/ma-user/anaconda3/envs/PyTorch-1.8/lib/python3.7/site-packages (from matplotlib) (9.1.1)\n",
      "Requirement already satisfied: fonttools>=4.22.0 in /home/ma-user/anaconda3/envs/PyTorch-1.8/lib/python3.7/site-packages (from matplotlib) (4.33.2)\n",
      "Requirement already satisfied: packaging>=20.0 in /home/ma-user/anaconda3/envs/PyTorch-1.8/lib/python3.7/site-packages (from matplotlib) (21.3)\n",
      "Requirement already satisfied: pyparsing>=2.2.1 in /home/ma-user/anaconda3/envs/PyTorch-1.8/lib/python3.7/site-packages (from matplotlib) (3.0.8)\n",
      "Requirement already satisfied: python-dateutil>=2.7 in /home/ma-user/anaconda3/envs/PyTorch-1.8/lib/python3.7/site-packages (from matplotlib) (2.8.2)\n",
      "Requirement already satisfied: typing-extensions in /home/ma-user/anaconda3/envs/PyTorch-1.8/lib/python3.7/site-packages (from kiwisolver>=1.0.1->matplotlib) (4.2.0)\n",
      "Requirement already satisfied: six>=1.5 in /home/ma-user/anaconda3/envs/PyTorch-1.8/lib/python3.7/site-packages (from python-dateutil>=2.7->matplotlib) (1.16.0)\n",
      "Looking in indexes: http://repo.myhuaweicloud.com/repository/pypi/simple\n",
      "Requirement already satisfied: opencv-python in /home/ma-user/anaconda3/envs/PyTorch-1.8/lib/python3.7/site-packages (4.1.2.30)\n",
      "Collecting opencv-python\n",
      "  Downloading http://repo.myhuaweicloud.com/repository/pypi/packages/af/bf/8d189a5c43460f6b5c8eb81ead8732e94b9f73ef8d9abba9e8f5a61a6531/opencv_python-4.6.0.66-cp36-abi3-manylinux_2_17_x86_64.manylinux2014_x86_64.whl (60.9 MB)\n",
      "\u001b[2K     \u001b[90m━━━━━━━━━━━━━━━━━━━━━━━━━━━━━━━━━━━━━━━━\u001b[0m \u001b[32m60.9/60.9 MB\u001b[0m \u001b[31m32.9 MB/s\u001b[0m eta \u001b[36m0:00:00\u001b[0m00:01\u001b[0m00:01\u001b[0m\n",
      "\u001b[?25hRequirement already satisfied: numpy>=1.14.5 in /home/ma-user/anaconda3/envs/PyTorch-1.8/lib/python3.7/site-packages (from opencv-python) (1.21.6)\n",
      "Installing collected packages: opencv-python\n",
      "  Attempting uninstall: opencv-python\n",
      "    Found existing installation: opencv-python 4.1.2.30\n",
      "    Uninstalling opencv-python-4.1.2.30:\n",
      "      Successfully uninstalled opencv-python-4.1.2.30\n",
      "Successfully installed opencv-python-4.6.0.66\n"
     ]
    }
   ],
   "source": [
    "!python -m pip install --upgrade pip\n",
    "!pip install -U albumentations\n",
    "!pip install timm\n",
    "!pip install torchsummary\n",
    "!pip install matplotlib\n",
    "!pip install --upgrade opencv-python"
   ]
  },
  {
   "cell_type": "markdown",
   "metadata": {},
   "source": [
    "**把数据从OBS复制到服务器中**"
   ]
  },
  {
   "cell_type": "code",
   "execution_count": 2,
   "metadata": {},
   "outputs": [
    {
     "name": "stderr",
     "output_type": "stream",
     "text": [
      "INFO:root:Using MoXing-v2.0.1.rc0.ffd1c0c8-ffd1c0c8\n",
      "INFO:root:Using OBS-Python-SDK-3.20.9.1\n"
     ]
    }
   ],
   "source": [
    "import moxing as mox \n",
    "# 需修改为自己的OBS目录\n",
    "mox.file.copy('obs://tong-network/food-11.zip', '/home/ma-user/work/food-11.zip') # 复制数据到当前路径"
   ]
  },
  {
   "cell_type": "markdown",
   "metadata": {},
   "source": [
    "**解压数据**"
   ]
  },
  {
   "cell_type": "code",
   "execution_count": null,
   "metadata": {},
   "outputs": [],
   "source": [
    "!unzip food-11.zip"
   ]
  },
  {
   "cell_type": "code",
   "execution_count": 2,
   "metadata": {
    "colab": {},
    "colab_type": "code",
    "id": "9sVrKci4PUFW"
   },
   "outputs": [
    {
     "name": "stderr",
     "output_type": "stream",
     "text": [
      "/home/ma-user/anaconda3/envs/PyTorch-1.8/lib/python3.7/site-packages/tqdm/auto.py:22: TqdmWarning: IProgress not found. Please update jupyter and ipywidgets. See https://ipywidgets.readthedocs.io/en/stable/user_install.html\n",
      "  from .autonotebook import tqdm as notebook_tqdm\n"
     ]
    }
   ],
   "source": [
    "import os\n",
    "import glob\n",
    "import time\n",
    "import timm\n",
    "import numpy as np\n",
    "# from PIL import Image\n",
    "import PIL.Image as Image\n",
    "import pandas as pd\n",
    "import albumentations as A  # 数据增强库\n",
    "import matplotlib.pyplot as plt\n",
    "\n",
    "from tqdm import tqdm  # 显示进度条\n",
    "from albumentations.pytorch import ToTensorV2\n",
    "\n",
    "import torch\n",
    "import torch.nn as nn\n",
    "from torch.utils.data import DataLoader, Dataset\n",
    "\n",
    "%matplotlib inline"
   ]
  },
  {
   "cell_type": "code",
   "execution_count": 3,
   "metadata": {},
   "outputs": [
    {
     "name": "stdout",
     "output_type": "stream",
     "text": [
      "9866 3430\n"
     ]
    }
   ],
   "source": [
    "# 分别读入 training set、validation set、testing set 的文件路径\n",
    "\n",
    "\n",
    "dataset_dir = 'food-11/'    # todo: 更换自己的文件路径\n",
    "# dataset_dir = '/path/to/your/dataset/dir'\n",
    "train_files = glob.glob(os.path.join(dataset_dir, 'training', '*'))  # 返回列表[training目录下所有文件的绝对路径]\n",
    "val_files = glob.glob(os.path.join(dataset_dir, 'validation', '*'))\n",
    "\n",
    "print(len(train_files), len(val_files))"
   ]
  },
  {
   "cell_type": "markdown",
   "metadata": {
    "colab_type": "text",
    "id": "gq5KVMM3OHY6"
   },
   "source": [
    "# Dataset\n",
    "在 Pytorch 中，我们可以利用 torch.utils.data 的 Dataset 及 DataLoader 來\"包装\" data，使后续的 training 及 testing 更為方便。\n",
    "\n",
    "Dataset 需要 overload 两个函数：\\_\\_len\\_\\_ 及 \\_\\_getitem\\_\\_\n",
    "\n",
    "\\_\\_len\\_\\_ 必须要回传 dataset 的大小，而 \\_\\_getitem\\_\\_ 则定义了当函数利用 [ ] 取值時，dataset 应该要怎么回传资料。\n",
    "\n",
    "实际上我们并不会直接使用到这两个函数，但是使用 DataLoader 在 enumerate Dataset 时会使用到，沒有overload的话在函数运行阶段会出现 error。\n"
   ]
  },
  {
   "cell_type": "code",
   "execution_count": 4,
   "metadata": {
    "colab": {},
    "colab_type": "code",
    "id": "gKd2abixQghI"
   },
   "outputs": [],
   "source": [
    "#training 时做 data augmentation\n",
    "train_transform = A.Compose([\n",
    "    A.HorizontalFlip(p=0.5), # 水平翻转，概率为0.5\n",
    "    \n",
    "    A.Resize(224, 224, always_apply=True),  # 将不同尺寸的图像缩放到同一尺寸\n",
    "    A.Normalize(mean=(0.485, 0.456, 0.406), std=(0.229, 0.224, 0.225)),  # 使用imagenet的均值和方差进行normalization\n",
    "    ToTensorV2(), # 将numpy转换为Tensor， 并将图像（H,W,3）转换为（3,H,W）\n",
    "])  # 其他方式的数据增强请参考官方文档\n",
    "\n",
    "#testing 时候不需做 data augmentation\n",
    "test_transform = A.Compose([\n",
    "    A.Resize(224, 224, always_apply=True),\n",
    "    A.Normalize(mean=(0.485, 0.456, 0.406), std=(0.229, 0.224, 0.225)),\n",
    "    ToTensorV2(),\n",
    "])\n",
    "\n",
    "class ImgDataset(Dataset):\n",
    "    def __init__(self, files_list, transform=None, mode='train'):\n",
    "        self.files_list = files_list\n",
    "        self.transform = transform\n",
    "        self.mode = mode\n",
    "    \n",
    "    def __getitem__(self, index):\n",
    "        file = self.files_list[index]\n",
    "        image = np.array(Image.open(file))\n",
    "        \n",
    "        if self.transform is not None:\n",
    "            aug = self.transform(image=image)\n",
    "            image = aug['image']\n",
    "        \n",
    "        if self.mode in ['train', 'val']: \n",
    "            label = int(os.path.basename(file).split('_')[0])\n",
    "            return image, label\n",
    "\n",
    "        else:\n",
    "            return image\n",
    "        \n",
    "    def __len__(self):\n",
    "        return len(self.files_list)"
   ]
  },
  {
   "cell_type": "code",
   "execution_count": 5,
   "metadata": {
    "colab": {},
    "colab_type": "code",
    "id": "qz6jeMnkQl0_"
   },
   "outputs": [],
   "source": [
    "batch_size = 64\n",
    "train_set = ImgDataset(train_files, train_transform, mode='train')\n",
    "val_set = ImgDataset(val_files, test_transform, mode='val')\n",
    "train_loader = DataLoader(train_set, batch_size=batch_size, shuffle=True, num_workers=4, drop_last=True)\n",
    "val_loader = DataLoader(val_set, batch_size=batch_size, shuffle=False, num_workers=4)"
   ]
  },
  {
   "cell_type": "markdown",
   "metadata": {
    "colab_type": "text",
    "id": "j9YhZo7POPYG"
   },
   "source": [
    "# Model"
   ]
  },
  {
   "cell_type": "code",
   "execution_count": 6,
   "metadata": {},
   "outputs": [],
   "source": [
    "class StudentNet(nn.Module):\n",
    "    '''\n",
    "      在这个Net里面，我们会使用Depthwise & Pointwise Convolution Layer來叠model。\n",
    "      你会发現，将原本的Convolution Layer换成Dw & Pw以后，Accuracy通常不会降很多。\n",
    "\n",
    "      另外，取名为StudentNet是因為个odel等会要做Knowledge Distillation。\n",
    "    '''\n",
    "\n",
    "    def __init__(self, base=16, width_mult=1):\n",
    "        '''\n",
    "          Args:\n",
    "            base: 这个model一开始的channle数量，每过一层都会*2，直到base*16为止。\n",
    "            width_mult:为了之後的Network Pruning使用，在base*8 chs的Layer上会 * width_mult代表剪枝后的ch数量。        \n",
    "        '''\n",
    "        super(StudentNet, self).__init__()\n",
    "        multiplier = [1, 2, 4, 8, 16, 16, 16, 16]\n",
    "\n",
    "        # bandwidth: 每一层Layer所使用的ch數量\n",
    "        bandwidth = [ base * m for m in multiplier]\n",
    "\n",
    "        # 我们只Pruning第三层以后的Layer\n",
    "        for i in range(3, 7):\n",
    "            bandwidth[i] = int(bandwidth[i] * width_mult)\n",
    "\n",
    "        self.cnn = nn.Sequential(\n",
    "            # 第一层我们通常不会拆解Convolution Layer。\n",
    "            # nn.Conv2d(in_chs, out_chs, kernel_size, stride, padding)\n",
    "            nn.Sequential(\n",
    "                nn.Conv2d(3, bandwidth[0], 3, 1, 1),  # bandwidth[0]=1*16\n",
    "                nn.BatchNorm2d(bandwidth[0]),\n",
    "                nn.ReLU6(),\n",
    "                nn.MaxPool2d(2, 2, 0),\n",
    "            ),\n",
    "            # 接下来每一个Sequential Block都一样，所以我们只讲一个block\n",
    "            nn.Sequential(\n",
    "                # Depthwise Convolution 卷积层（x, x, x）\n",
    "                nn.Conv2d(bandwidth[0], bandwidth[0], 3, 1, 1, groups=bandwidth[0]),\n",
    "                # Batch Normalization\n",
    "                nn.BatchNorm2d(bandwidth[0]),\n",
    "                # ReLU6 是限制Neuron最小只会到0，最大只会到6。 MobileNet系列都是使用ReLU6。\n",
    "                # 使用ReLU6的原因是因为如果数字太大，会不好压到float16 / or further qunatization，因此才給个限制。\n",
    "                nn.ReLU6(),\n",
    "                # Pointwise Convolution\n",
    "                nn.Conv2d(bandwidth[0], bandwidth[1], 1),\n",
    "                # 过完Pointwise Convolution不需要再做ReLU，经验上Pointwise + ReLU效果都会变差。\n",
    "                nn.MaxPool2d(2, 2, 0),\n",
    "                # 每过完一个Block就Down Sampling\n",
    "            ),\n",
    "\n",
    "            nn.Sequential(\n",
    "                nn.Conv2d(bandwidth[1], bandwidth[1], 3, 1, 1, groups=bandwidth[1]),\n",
    "                nn.BatchNorm2d(bandwidth[1]),\n",
    "                nn.ReLU6(),\n",
    "                nn.Conv2d(bandwidth[1], bandwidth[2], 1),\n",
    "                nn.MaxPool2d(2, 2, 0),\n",
    "            ),\n",
    "\n",
    "            nn.Sequential(\n",
    "                nn.Conv2d(bandwidth[2], bandwidth[2], 3, 1, 1, groups=bandwidth[2]),\n",
    "                nn.BatchNorm2d(bandwidth[2]),\n",
    "                nn.ReLU6(),\n",
    "                nn.Conv2d(bandwidth[2], bandwidth[3], 1),\n",
    "                nn.MaxPool2d(2, 2, 0),\n",
    "            ),\n",
    "\n",
    "            # 到这个为止是因为图片被Down Sample很多次了，所以就不做MaxPool\n",
    "            nn.Sequential(\n",
    "                nn.Conv2d(bandwidth[3], bandwidth[3], 3, 1, 1, groups=bandwidth[3]),\n",
    "                nn.BatchNorm2d(bandwidth[3]),\n",
    "                nn.ReLU6(),\n",
    "                nn.Conv2d(bandwidth[3], bandwidth[4], 1),\n",
    "            ),\n",
    "\n",
    "            nn.Sequential(\n",
    "                nn.Conv2d(bandwidth[4], bandwidth[4], 3, 1, 1, groups=bandwidth[4]),\n",
    "                nn.BatchNorm2d(bandwidth[4]),\n",
    "                nn.ReLU6(),\n",
    "                nn.Conv2d(bandwidth[4], bandwidth[5], 1),\n",
    "            ),\n",
    "\n",
    "            nn.Sequential(\n",
    "                nn.Conv2d(bandwidth[5], bandwidth[5], 3, 1, 1, groups=bandwidth[5]),\n",
    "                nn.BatchNorm2d(bandwidth[5]),\n",
    "                nn.ReLU6(),\n",
    "                nn.Conv2d(bandwidth[5], bandwidth[6], 1),\n",
    "            ),\n",
    "\n",
    "            nn.Sequential(\n",
    "                nn.Conv2d(bandwidth[6], bandwidth[6], 3, 1, 1, groups=bandwidth[6]),\n",
    "                nn.BatchNorm2d(bandwidth[6]),\n",
    "                nn.ReLU6(),\n",
    "                nn.Conv2d(bandwidth[6], bandwidth[7], 1),\n",
    "            ),\n",
    "\n",
    "            # 这边我们用Global Average Pooling。\n",
    "            # 如果输入图片大小不一样的话，就会因为Global Average Pooling压成一样的形狀，这样子接下来做FC就不会对不起来。\n",
    "            nn.AdaptiveAvgPool2d((1, 1)),\n",
    "        )\n",
    "        self.fc = nn.Sequential(\n",
    "            # 这边我们直接Project到11维输出答案。  数据集food种类为11\n",
    "            nn.Linear(bandwidth[7], 11),\n",
    "        )\n",
    "\n",
    "    def forward(self, x):\n",
    "        out = self.cnn(x)\n",
    "        out = out.view(out.size()[0], -1)\n",
    "        return self.fc(out)\n"
   ]
  },
  {
   "cell_type": "code",
   "execution_count": 28,
   "metadata": {},
   "outputs": [],
   "source": [
    "class StudentNet(nn.Module):\n",
    "    '''\n",
    "      在这个Net里面，我们会使用Depthwise & Pointwise Convolution Layer來叠model。\n",
    "      你会发現，将原本的Convolution Layer换成Dw & Pw以后，Accuracy通常不会降很多。\n",
    "\n",
    "      另外，取名为StudentNet是因為个odel等会要做Knowledge Distillation。\n",
    "    '''\n",
    "\n",
    "    def __init__(self, base=16, width_mult=1):\n",
    "        '''\n",
    "          Args:\n",
    "            base: 这个model一开始的channle数量，每过一层都会*2，直到base*16为止。\n",
    "            width_mult:为了之後的Network Pruning使用，在base*8 chs的Layer上会 * width_mult代表剪枝后的ch数量。        \n",
    "        '''\n",
    "        super(StudentNet, self).__init__()\n",
    "        multiplier = [1, 2, 4, 8, 16, 16, 16, 16]\n",
    "\n",
    "        # bandwidth: 每一层Layer所使用的ch數量\n",
    "        bandwidth = [ base * m for m in multiplier]\n",
    "\n",
    "        # 我们只Pruning第三层以后的Layer\n",
    "        for i in range(3, 7):\n",
    "            bandwidth[i] = int(bandwidth[i] * width_mult)\n",
    "\n",
    "        self.cnn = nn.Sequential(\n",
    "            # 第一层我们通常不会拆解Convolution Layer。\n",
    "            # nn.Conv2d(in_chs, out_chs, kernel_size, stride, padding)\n",
    "            nn.Sequential(\n",
    "                nn.Conv2d(3, bandwidth[0], 3, 1, 1),  # bandwidth[0]=1*16\n",
    "                nn.BatchNorm2d(bandwidth[0]),\n",
    "                nn.Hardswish(),\n",
    "                nn.MaxPool2d(2, 2, 0),\n",
    "            ),\n",
    "            # 接下来每一个Sequential Block都一样，所以我们只讲一个block\n",
    "            nn.Sequential(\n",
    "                # Depthwise Convolution 卷积层（x, x, x）\n",
    "                nn.Conv2d(bandwidth[0], bandwidth[0], 3, 1, 1, groups=bandwidth[0]),\n",
    "                # Batch Normalization\n",
    "                nn.BatchNorm2d(bandwidth[0]),\n",
    "                # ReLU6 是限制Neuron最小只会到0，最大只会到6。 MobileNet系列都是使用ReLU6。\n",
    "                # 使用ReLU6的原因是因为如果数字太大，会不好压到float16 / or further qunatization，因此才給个限制。\n",
    "                nn.Hardswish(),\n",
    "                # Pointwise Convolution\n",
    "                nn.Conv2d(bandwidth[0], bandwidth[1], 1),\n",
    "                # 过完Pointwise Convolution不需要再做ReLU，经验上Pointwise + ReLU效果都会变差。\n",
    "                nn.MaxPool2d(2, 2, 0),\n",
    "                # 每过完一个Block就Down Sampling\n",
    "            ),\n",
    "\n",
    "            nn.Sequential(\n",
    "                nn.Conv2d(bandwidth[1], bandwidth[1], 3, 1, 1, groups=bandwidth[1]),\n",
    "                nn.BatchNorm2d(bandwidth[1]),\n",
    "                nn.Hardswish(),\n",
    "                nn.Conv2d(bandwidth[1], bandwidth[2], 1),\n",
    "                nn.MaxPool2d(2, 2, 0),\n",
    "            ),\n",
    "\n",
    "            nn.Sequential(\n",
    "                nn.Conv2d(bandwidth[2], bandwidth[2], 3, 1, 1, groups=bandwidth[2]),\n",
    "                nn.BatchNorm2d(bandwidth[2]),\n",
    "                nn.Hardswish(),\n",
    "                nn.Conv2d(bandwidth[2], bandwidth[3], 1),\n",
    "                nn.MaxPool2d(2, 2, 0),\n",
    "            ),\n",
    "\n",
    "            # 到这个为止是因为图片被Down Sample很多次了，所以就不做MaxPool\n",
    "            nn.Sequential(\n",
    "                nn.Conv2d(bandwidth[3], bandwidth[3], 3, 1, 1, groups=bandwidth[3]),\n",
    "                nn.BatchNorm2d(bandwidth[3]),\n",
    "                nn.Hardswish(),\n",
    "                nn.Conv2d(bandwidth[3], bandwidth[4], 1),\n",
    "            ),\n",
    "\n",
    "            nn.Sequential(\n",
    "                nn.Conv2d(bandwidth[4], bandwidth[4], 3, 1, 1, groups=bandwidth[4]),\n",
    "                nn.BatchNorm2d(bandwidth[4]),\n",
    "                nn.Hardswish(),\n",
    "                nn.Conv2d(bandwidth[4], bandwidth[5], 1),\n",
    "            ),\n",
    "\n",
    "            nn.Sequential(\n",
    "                nn.Conv2d(bandwidth[5], bandwidth[5], 3, 1, 1, groups=bandwidth[5]),\n",
    "                nn.BatchNorm2d(bandwidth[5]),\n",
    "                nn.Hardswish(),\n",
    "                nn.Conv2d(bandwidth[5], bandwidth[6], 1),\n",
    "            ),\n",
    "\n",
    "            nn.Sequential(\n",
    "                nn.Conv2d(bandwidth[6], bandwidth[6], 3, 1, 1, groups=bandwidth[6]),\n",
    "                nn.BatchNorm2d(bandwidth[6]),\n",
    "                nn.Hardswish(),\n",
    "                nn.Conv2d(bandwidth[6], bandwidth[7], 1),\n",
    "            ),\n",
    "\n",
    "            # 这边我们用Global Average Pooling。\n",
    "            # 如果输入图片大小不一样的话，就会因为Global Average Pooling压成一样的形狀，这样子接下来做FC就不会对不起来。\n",
    "            nn.AdaptiveAvgPool2d((1, 1)),\n",
    "        )\n",
    "        self.fc = nn.Sequential(\n",
    "            # 这边我们直接Project到11维输出答案。  数据集food种类为11\n",
    "            nn.Linear(bandwidth[7], 11),\n",
    "        )\n",
    "\n",
    "    def forward(self, x):\n",
    "        out = self.cnn(x)\n",
    "        out = out.view(out.size()[0], -1)\n",
    "        return self.fc(out)\n"
   ]
  },
  {
   "cell_type": "code",
   "execution_count": 29,
   "metadata": {},
   "outputs": [
    {
     "name": "stdout",
     "output_type": "stream",
     "text": [
      "----------------------------------------------------------------\n",
      "        Layer (type)               Output Shape         Param #\n",
      "================================================================\n",
      "            Conv2d-1         [-1, 16, 512, 512]             448\n",
      "       BatchNorm2d-2         [-1, 16, 512, 512]              32\n",
      "         Hardswish-3         [-1, 16, 512, 512]               0\n",
      "         MaxPool2d-4         [-1, 16, 256, 256]               0\n",
      "            Conv2d-5         [-1, 16, 256, 256]             160\n",
      "       BatchNorm2d-6         [-1, 16, 256, 256]              32\n",
      "         Hardswish-7         [-1, 16, 256, 256]               0\n",
      "            Conv2d-8         [-1, 32, 256, 256]             544\n",
      "         MaxPool2d-9         [-1, 32, 128, 128]               0\n",
      "           Conv2d-10         [-1, 32, 128, 128]             320\n",
      "      BatchNorm2d-11         [-1, 32, 128, 128]              64\n",
      "        Hardswish-12         [-1, 32, 128, 128]               0\n",
      "           Conv2d-13         [-1, 64, 128, 128]           2,112\n",
      "        MaxPool2d-14           [-1, 64, 64, 64]               0\n",
      "           Conv2d-15           [-1, 64, 64, 64]             640\n",
      "      BatchNorm2d-16           [-1, 64, 64, 64]             128\n",
      "        Hardswish-17           [-1, 64, 64, 64]               0\n",
      "           Conv2d-18          [-1, 128, 64, 64]           8,320\n",
      "        MaxPool2d-19          [-1, 128, 32, 32]               0\n",
      "           Conv2d-20          [-1, 128, 32, 32]           1,280\n",
      "      BatchNorm2d-21          [-1, 128, 32, 32]             256\n",
      "        Hardswish-22          [-1, 128, 32, 32]               0\n",
      "           Conv2d-23          [-1, 256, 32, 32]          33,024\n",
      "           Conv2d-24          [-1, 256, 32, 32]           2,560\n",
      "      BatchNorm2d-25          [-1, 256, 32, 32]             512\n",
      "        Hardswish-26          [-1, 256, 32, 32]               0\n",
      "           Conv2d-27          [-1, 256, 32, 32]          65,792\n",
      "           Conv2d-28          [-1, 256, 32, 32]           2,560\n",
      "      BatchNorm2d-29          [-1, 256, 32, 32]             512\n",
      "        Hardswish-30          [-1, 256, 32, 32]               0\n",
      "           Conv2d-31          [-1, 256, 32, 32]          65,792\n",
      "           Conv2d-32          [-1, 256, 32, 32]           2,560\n",
      "      BatchNorm2d-33          [-1, 256, 32, 32]             512\n",
      "        Hardswish-34          [-1, 256, 32, 32]               0\n",
      "           Conv2d-35          [-1, 256, 32, 32]          65,792\n",
      "AdaptiveAvgPool2d-36            [-1, 256, 1, 1]               0\n",
      "           Linear-37                   [-1, 11]           2,827\n",
      "================================================================\n",
      "Total params: 256,779\n",
      "Trainable params: 256,779\n",
      "Non-trainable params: 0\n",
      "----------------------------------------------------------------\n",
      "Input size (MB): 3.00\n",
      "Forward/backward pass size (MB): 210.00\n",
      "Params size (MB): 0.98\n",
      "Estimated Total Size (MB): 213.98\n",
      "----------------------------------------------------------------\n"
     ]
    }
   ],
   "source": [
    "from torchsummary import summary\n",
    "\n",
    "student_net = StudentNet()\n",
    "summary(student_net, (3, 512, 512), device=\"cpu\")"
   ]
  },
  {
   "cell_type": "code",
   "execution_count": 30,
   "metadata": {},
   "outputs": [],
   "source": [
    "device = torch.device(\"cuda:0\" if torch.cuda.is_available() else \"cpu\")\n",
    "model = StudentNet(base=16).cuda()"
   ]
  },
  {
   "cell_type": "markdown",
   "metadata": {
    "colab_type": "text",
    "id": "aEnGbriXORN3"
   },
   "source": [
    "# Training"
   ]
  },
  {
   "cell_type": "markdown",
   "metadata": {
    "colab_type": "text",
    "id": "_5x-FH2Kr_jh"
   },
   "source": [
    "使用training set训练，并使用validation set寻找好的參數"
   ]
  },
  {
   "cell_type": "code",
   "execution_count": 31,
   "metadata": {
    "colab": {},
    "colab_type": "code",
    "id": "PHaFE-8oQtkC",
    "scrolled": true
   },
   "outputs": [
    {
     "name": "stderr",
     "output_type": "stream",
     "text": [
      "100%|██████████| 154/154 [00:14<00:00, 10.29it/s]\n",
      "100%|██████████| 54/54 [00:06<00:00,  8.34it/s]\n"
     ]
    },
    {
     "name": "stdout",
     "output_type": "stream",
     "text": [
      "[001/030] 21.47 sec(s) Train Acc: 0.361646 Loss: 0.028452 | Val Acc: 0.446939 loss: 0.024943\n"
     ]
    },
    {
     "name": "stderr",
     "output_type": "stream",
     "text": [
      "100%|██████████| 154/154 [00:14<00:00, 10.81it/s]\n",
      "100%|██████████| 54/54 [00:06<00:00,  8.48it/s]\n"
     ]
    },
    {
     "name": "stdout",
     "output_type": "stream",
     "text": [
      "[002/030] 20.64 sec(s) Train Acc: 0.499392 Loss: 0.022806 | Val Acc: 0.500583 loss: 0.022693\n"
     ]
    },
    {
     "name": "stderr",
     "output_type": "stream",
     "text": [
      "100%|██████████| 154/154 [00:13<00:00, 11.22it/s]\n",
      "100%|██████████| 54/54 [00:06<00:00,  8.50it/s]\n"
     ]
    },
    {
     "name": "stdout",
     "output_type": "stream",
     "text": [
      "[003/030] 20.09 sec(s) Train Acc: 0.569126 Loss: 0.019739 | Val Acc: 0.556268 loss: 0.020306\n"
     ]
    },
    {
     "name": "stderr",
     "output_type": "stream",
     "text": [
      "100%|██████████| 154/154 [00:14<00:00, 10.79it/s]\n",
      "100%|██████████| 54/54 [00:06<00:00,  8.28it/s]\n"
     ]
    },
    {
     "name": "stdout",
     "output_type": "stream",
     "text": [
      "[004/030] 20.81 sec(s) Train Acc: 0.609974 Loss: 0.017681 | Val Acc: 0.575219 loss: 0.019359\n"
     ]
    },
    {
     "name": "stderr",
     "output_type": "stream",
     "text": [
      "100%|██████████| 154/154 [00:14<00:00, 10.61it/s]\n",
      "100%|██████████| 54/54 [00:06<00:00,  8.65it/s]\n"
     ]
    },
    {
     "name": "stdout",
     "output_type": "stream",
     "text": [
      "[005/030] 20.78 sec(s) Train Acc: 0.647375 Loss: 0.016066 | Val Acc: 0.597668 loss: 0.018703\n"
     ]
    },
    {
     "name": "stderr",
     "output_type": "stream",
     "text": [
      "100%|██████████| 154/154 [00:14<00:00, 10.98it/s]\n",
      "100%|██████████| 54/54 [00:06<00:00,  8.78it/s]\n"
     ]
    },
    {
     "name": "stdout",
     "output_type": "stream",
     "text": [
      "[006/030] 20.19 sec(s) Train Acc: 0.673323 Loss: 0.014642 | Val Acc: 0.600583 loss: 0.019235\n"
     ]
    },
    {
     "name": "stderr",
     "output_type": "stream",
     "text": [
      "100%|██████████| 154/154 [00:13<00:00, 11.09it/s]\n",
      "100%|██████████| 54/54 [00:06<00:00,  8.78it/s]\n"
     ]
    },
    {
     "name": "stdout",
     "output_type": "stream",
     "text": [
      "[007/030] 20.05 sec(s) Train Acc: 0.700892 Loss: 0.013593 | Val Acc: 0.585131 loss: 0.020168\n"
     ]
    },
    {
     "name": "stderr",
     "output_type": "stream",
     "text": [
      "100%|██████████| 154/154 [00:14<00:00, 10.78it/s]\n",
      "100%|██████████| 54/54 [00:06<00:00,  8.78it/s]\n"
     ]
    },
    {
     "name": "stdout",
     "output_type": "stream",
     "text": [
      "[008/030] 20.46 sec(s) Train Acc: 0.731401 Loss: 0.012249 | Val Acc: 0.621574 loss: 0.018552\n"
     ]
    },
    {
     "name": "stderr",
     "output_type": "stream",
     "text": [
      "100%|██████████| 154/154 [00:14<00:00, 10.89it/s]\n",
      "100%|██████████| 54/54 [00:06<00:00,  8.72it/s]\n"
     ]
    },
    {
     "name": "stdout",
     "output_type": "stream",
     "text": [
      "[009/030] 20.36 sec(s) Train Acc: 0.756639 Loss: 0.011208 | Val Acc: 0.610496 loss: 0.020154\n"
     ]
    },
    {
     "name": "stderr",
     "output_type": "stream",
     "text": [
      "100%|██████████| 154/154 [00:13<00:00, 11.02it/s]\n",
      "100%|██████████| 54/54 [00:06<00:00,  8.62it/s]\n"
     ]
    },
    {
     "name": "stdout",
     "output_type": "stream",
     "text": [
      "[010/030] 20.26 sec(s) Train Acc: 0.777113 Loss: 0.010138 | Val Acc: 0.630029 loss: 0.019067\n"
     ]
    },
    {
     "name": "stderr",
     "output_type": "stream",
     "text": [
      "100%|██████████| 154/154 [00:14<00:00, 10.92it/s]\n",
      "100%|██████████| 54/54 [00:06<00:00,  8.63it/s]\n"
     ]
    },
    {
     "name": "stdout",
     "output_type": "stream",
     "text": [
      "[011/030] 20.37 sec(s) Train Acc: 0.790797 Loss: 0.009316 | Val Acc: 0.627405 loss: 0.018858\n"
     ]
    },
    {
     "name": "stderr",
     "output_type": "stream",
     "text": [
      "100%|██████████| 154/154 [00:14<00:00, 10.99it/s]\n",
      "100%|██████████| 54/54 [00:06<00:00,  8.73it/s]\n"
     ]
    },
    {
     "name": "stdout",
     "output_type": "stream",
     "text": [
      "[012/030] 20.22 sec(s) Train Acc: 0.822420 Loss: 0.008277 | Val Acc: 0.617201 loss: 0.021671\n"
     ]
    },
    {
     "name": "stderr",
     "output_type": "stream",
     "text": [
      "100%|██████████| 154/154 [00:14<00:00, 10.83it/s]\n",
      "100%|██████████| 54/54 [00:06<00:00,  8.34it/s]\n"
     ]
    },
    {
     "name": "stdout",
     "output_type": "stream",
     "text": [
      "[013/030] 20.71 sec(s) Train Acc: 0.834279 Loss: 0.007593 | Val Acc: 0.617493 loss: 0.020828\n"
     ]
    },
    {
     "name": "stderr",
     "output_type": "stream",
     "text": [
      "100%|██████████| 154/154 [00:14<00:00, 10.70it/s]\n",
      "100%|██████████| 54/54 [00:06<00:00,  8.54it/s]\n"
     ]
    },
    {
     "name": "stdout",
     "output_type": "stream",
     "text": [
      "[014/030] 20.73 sec(s) Train Acc: 0.854551 Loss: 0.006712 | Val Acc: 0.623907 loss: 0.022176\n"
     ]
    },
    {
     "name": "stderr",
     "output_type": "stream",
     "text": [
      "100%|██████████| 154/154 [00:14<00:00, 10.74it/s]\n",
      "100%|██████████| 54/54 [00:06<00:00,  8.62it/s]\n"
     ]
    },
    {
     "name": "stdout",
     "output_type": "stream",
     "text": [
      "[015/030] 20.62 sec(s) Train Acc: 0.864484 Loss: 0.006197 | Val Acc: 0.593003 loss: 0.024852\n"
     ]
    },
    {
     "name": "stderr",
     "output_type": "stream",
     "text": [
      "100%|██████████| 154/154 [00:13<00:00, 11.02it/s]\n",
      "100%|██████████| 54/54 [00:06<00:00,  8.39it/s]\n"
     ]
    },
    {
     "name": "stdout",
     "output_type": "stream",
     "text": [
      "[016/030] 20.43 sec(s) Train Acc: 0.871985 Loss: 0.005806 | Val Acc: 0.623032 loss: 0.022563\n"
     ]
    },
    {
     "name": "stderr",
     "output_type": "stream",
     "text": [
      "100%|██████████| 154/154 [00:14<00:00, 10.76it/s]\n",
      "100%|██████████| 54/54 [00:06<00:00,  8.74it/s]\n"
     ]
    },
    {
     "name": "stdout",
     "output_type": "stream",
     "text": [
      "[017/030] 20.51 sec(s) Train Acc: 0.889215 Loss: 0.004994 | Val Acc: 0.618076 loss: 0.024140\n"
     ]
    },
    {
     "name": "stderr",
     "output_type": "stream",
     "text": [
      "100%|██████████| 154/154 [00:13<00:00, 11.00it/s]\n",
      "100%|██████████| 54/54 [00:06<00:00,  8.66it/s]\n"
     ]
    },
    {
     "name": "stdout",
     "output_type": "stream",
     "text": [
      "[018/030] 20.24 sec(s) Train Acc: 0.899250 Loss: 0.004509 | Val Acc: 0.613994 loss: 0.024261\n"
     ]
    },
    {
     "name": "stderr",
     "output_type": "stream",
     "text": [
      "100%|██████████| 154/154 [00:14<00:00, 10.92it/s]\n",
      "100%|██████████| 54/54 [00:06<00:00,  8.49it/s]\n"
     ]
    },
    {
     "name": "stdout",
     "output_type": "stream",
     "text": [
      "[019/030] 20.48 sec(s) Train Acc: 0.910197 Loss: 0.004069 | Val Acc: 0.637026 loss: 0.024060\n"
     ]
    },
    {
     "name": "stderr",
     "output_type": "stream",
     "text": [
      "100%|██████████| 154/154 [00:14<00:00, 10.62it/s]\n",
      "100%|██████████| 54/54 [00:06<00:00,  8.79it/s]\n"
     ]
    },
    {
     "name": "stdout",
     "output_type": "stream",
     "text": [
      "[020/030] 20.66 sec(s) Train Acc: 0.914454 Loss: 0.003939 | Val Acc: 0.589213 loss: 0.028485\n"
     ]
    },
    {
     "name": "stderr",
     "output_type": "stream",
     "text": [
      "100%|██████████| 154/154 [00:14<00:00, 10.79it/s]\n",
      "100%|██████████| 54/54 [00:06<00:00,  8.49it/s]\n"
     ]
    },
    {
     "name": "stdout",
     "output_type": "stream",
     "text": [
      "[021/030] 20.64 sec(s) Train Acc: 0.915163 Loss: 0.003615 | Val Acc: 0.610787 loss: 0.027318\n"
     ]
    },
    {
     "name": "stderr",
     "output_type": "stream",
     "text": [
      "100%|██████████| 154/154 [00:14<00:00, 10.70it/s]\n",
      "100%|██████████| 54/54 [00:06<00:00,  8.34it/s]\n"
     ]
    },
    {
     "name": "stdout",
     "output_type": "stream",
     "text": [
      "[022/030] 20.88 sec(s) Train Acc: 0.926211 Loss: 0.003280 | Val Acc: 0.618076 loss: 0.028914\n"
     ]
    },
    {
     "name": "stderr",
     "output_type": "stream",
     "text": [
      "100%|██████████| 154/154 [00:14<00:00, 10.62it/s]\n",
      "100%|██████████| 54/54 [00:06<00:00,  8.54it/s]\n"
     ]
    },
    {
     "name": "stdout",
     "output_type": "stream",
     "text": [
      "[023/030] 20.84 sec(s) Train Acc: 0.932191 Loss: 0.003004 | Val Acc: 0.613120 loss: 0.028291\n"
     ]
    },
    {
     "name": "stderr",
     "output_type": "stream",
     "text": [
      "100%|██████████| 154/154 [00:14<00:00, 10.87it/s]\n",
      "100%|██████████| 54/54 [00:06<00:00,  8.68it/s]\n"
     ]
    },
    {
     "name": "stdout",
     "output_type": "stream",
     "text": [
      "[024/030] 20.40 sec(s) Train Acc: 0.939996 Loss: 0.002719 | Val Acc: 0.644315 loss: 0.026775\n"
     ]
    },
    {
     "name": "stderr",
     "output_type": "stream",
     "text": [
      "100%|██████████| 154/154 [00:14<00:00, 10.81it/s]\n",
      "100%|██████████| 54/54 [00:06<00:00,  8.22it/s]\n"
     ]
    },
    {
     "name": "stdout",
     "output_type": "stream",
     "text": [
      "[025/030] 20.83 sec(s) Train Acc: 0.934624 Loss: 0.002759 | Val Acc: 0.621866 loss: 0.028198\n"
     ]
    },
    {
     "name": "stderr",
     "output_type": "stream",
     "text": [
      "100%|██████████| 154/154 [00:14<00:00, 10.92it/s]\n",
      "100%|██████████| 54/54 [00:05<00:00,  9.01it/s]\n"
     ]
    },
    {
     "name": "stdout",
     "output_type": "stream",
     "text": [
      "[026/030] 20.12 sec(s) Train Acc: 0.942327 Loss: 0.002491 | Val Acc: 0.582216 loss: 0.035249\n"
     ]
    },
    {
     "name": "stderr",
     "output_type": "stream",
     "text": [
      "100%|██████████| 154/154 [00:14<00:00, 10.98it/s]\n",
      "100%|██████████| 54/54 [00:06<00:00,  8.76it/s]\n"
     ]
    },
    {
     "name": "stdout",
     "output_type": "stream",
     "text": [
      "[027/030] 20.21 sec(s) Train Acc: 0.935232 Loss: 0.002709 | Val Acc: 0.639359 loss: 0.029103\n"
     ]
    },
    {
     "name": "stderr",
     "output_type": "stream",
     "text": [
      "100%|██████████| 154/154 [00:14<00:00, 10.47it/s]\n",
      "100%|██████████| 54/54 [00:06<00:00,  8.43it/s]\n"
     ]
    },
    {
     "name": "stdout",
     "output_type": "stream",
     "text": [
      "[028/030] 21.13 sec(s) Train Acc: 0.939286 Loss: 0.002708 | Val Acc: 0.642274 loss: 0.030167\n"
     ]
    },
    {
     "name": "stderr",
     "output_type": "stream",
     "text": [
      "100%|██████████| 154/154 [00:14<00:00, 10.33it/s]\n",
      "100%|██████████| 54/54 [00:08<00:00,  6.46it/s]\n"
     ]
    },
    {
     "name": "stdout",
     "output_type": "stream",
     "text": [
      "[029/030] 23.28 sec(s) Train Acc: 0.952260 Loss: 0.002210 | Val Acc: 0.635277 loss: 0.030575\n"
     ]
    },
    {
     "name": "stderr",
     "output_type": "stream",
     "text": [
      "100%|██████████| 154/154 [00:23<00:00,  6.53it/s]\n",
      "100%|██████████| 54/54 [00:06<00:00,  8.87it/s]"
     ]
    },
    {
     "name": "stdout",
     "output_type": "stream",
     "text": [
      "[030/030] 29.70 sec(s) Train Acc: 0.961991 Loss: 0.001678 | Val Acc: 0.634402 loss: 0.031710\n"
     ]
    },
    {
     "name": "stderr",
     "output_type": "stream",
     "text": [
      "\n"
     ]
    }
   ],
   "source": [
    "model = model.to(device)  # 如果有GPU则在GPU上运行, 否则为CPU\n",
    "loss = nn.CrossEntropyLoss() # 因为是 classification task，所以 loss 使用 CrossEntropyLoss\n",
    "optimizer = torch.optim.Adam(model.parameters(), lr=0.001) # optimizer 使用 Adam\n",
    "num_epoch = 30\n",
    "\n",
    "train_acc_list = []\n",
    "train_loss_list = []\n",
    "val_acc_list = []\n",
    "val_loss_list = []\n",
    "\n",
    "for epoch in range(num_epoch):\n",
    "    epoch_start_time = time.time()\n",
    "    train_acc = 0.0\n",
    "    train_loss = 0.0\n",
    "    val_acc = 0.0\n",
    "    val_loss = 0.0\n",
    "\n",
    "    model.train() # 确保 model 是在 train model (开启 Dropout 等...)\n",
    "    for image, label in tqdm(train_loader):\n",
    "        optimizer.zero_grad() # 用 optimizer 将 model 参数的 gradient 置零\n",
    "        \n",
    "        image = image.to(device)  # 如果有GPU则在GPU上运行\n",
    "        label = label.to(device)\n",
    "        \n",
    "        train_pred = model(image) # 利用 model 得到预测的概率分布 这边实际上就是去呼叫 model 的 forward 函数\n",
    "        batch_loss = loss(train_pred, label) # 计算 loss （注意 prediction 跟 label 必须同时在 CPU 或是 GPU 上）\n",
    "        batch_loss.backward() # 利用 back propagation 算出每個参数的 gradient\n",
    "        optimizer.step() # 以 optimizer 用 gradient 更新参数值\n",
    "        \n",
    "        train_acc += torch.sum(torch.argmax(train_pred, dim=1) == label).item()\n",
    "        train_loss += batch_loss.item()\n",
    "    \n",
    "    model.eval()\n",
    "    with torch.no_grad():\n",
    "        for image, label in tqdm(val_loader):\n",
    "            image = image.to(device)\n",
    "            label = label.to(device)\n",
    "            \n",
    "            val_pred = model(image)\n",
    "            batch_loss = loss(val_pred, label)\n",
    "\n",
    "            val_acc += torch.sum(torch.argmax(val_pred, dim=1) == label).item()\n",
    "            val_loss += batch_loss.item()\n",
    "\n",
    "    train_acc_list.append(train_acc / train_set.__len__())\n",
    "    train_loss_list.append(train_loss / train_set.__len__())\n",
    "    val_acc_list.append(val_acc / val_set.__len__())\n",
    "    val_loss_list.append(val_loss / val_set.__len__())\n",
    "    \n",
    "        #將結果 print 出來\n",
    "    print('[%03d/%03d] %2.2f sec(s) Train Acc: %3.6f Loss: %3.6f | Val Acc: %3.6f loss: %3.6f' % \\\n",
    "        (epoch + 1, num_epoch, time.time()-epoch_start_time, \\\n",
    "         train_acc/train_set.__len__(), train_loss/train_set.__len__(), val_acc/val_set.__len__(), val_loss/val_set.__len__()))"
   ]
  },
  {
   "cell_type": "markdown",
   "metadata": {},
   "source": [
    "查看训练过程accuracy和loss曲线"
   ]
  },
  {
   "cell_type": "code",
   "execution_count": 32,
   "metadata": {},
   "outputs": [
    {
     "data": {
      "image/png": "[encoded data removed]",
      "text/plain": [
       "<Figure size 432x288 with 1 Axes>"
      ]
     },
     "metadata": {
      "needs_background": "light"
     },
     "output_type": "display_data"
    }
   ],
   "source": [
    "#plt.figure(figsize=(10, 10))\n",
    "plt.plot(range(num_epoch), train_loss_list, color='red', linewidth=3.0, linestyle='-', label='train_loss')\n",
    "plt.plot(range(num_epoch), val_loss_list, color='blue', linewidth=3.0, linestyle='-', label='val_loss')\n",
    "plt.legend()\n",
    "plt.show()"
   ]
  },
  {
   "cell_type": "code",
   "execution_count": 33,
   "metadata": {},
   "outputs": [
    {
     "data": {
      "image/png": "[encoded data removed]",
      "text/plain": [
       "<Figure size 432x288 with 1 Axes>"
      ]
     },
     "metadata": {
      "needs_background": "light"
     },
     "output_type": "display_data"
    }
   ],
   "source": [
    "plt.plot(range(num_epoch), val_acc_list, color='blue', linewidth=2.0, linestyle='--', label='val_acc')\n",
    "plt.plot(range(num_epoch), train_acc_list, color='red', linewidth=2.0, linestyle='--', label='train_acc')\n",
    "plt.legend()\n",
    "plt.show()"
   ]
  },
  {
   "cell_type": "markdown",
   "metadata": {
    "colab_type": "text",
    "id": "2-ssSxXlsI_T"
   },
   "source": [
    "得到好的参数后，我们使用training set和validation set共同训练（数据量增加，模型效果一般有提升）"
   ]
  },
  {
   "cell_type": "code",
   "execution_count": 19,
   "metadata": {},
   "outputs": [],
   "source": [
    "train_val_x = np.concatenate((train_files, val_files), axis=0)\n",
    "train_val_y = np.concatenate((train_transform, test_transform), axis=0)\n",
    "train_val_set = ImgDataset(train_val_x, train_val_y, train_transform)\n",
    "train_val_loader = DataLoader(train_val_set, batch_size=batch_size, shuffle=True)"
   ]
  },
  {
   "cell_type": "code",
   "execution_count": 22,
   "metadata": {},
   "outputs": [
    {
     "name": "stderr",
     "output_type": "stream",
     "text": [
      "100%|██████████| 154/154 [00:14<00:00, 10.68it/s]\n",
      "100%|██████████| 54/54 [00:06<00:00,  8.26it/s]\n"
     ]
    },
    {
     "name": "stdout",
     "output_type": "stream",
     "text": [
      "[001/030] 20.99 sec(s) Train Acc: 0.719841 Loss: 0.000972\n"
     ]
    },
    {
     "name": "stderr",
     "output_type": "stream",
     "text": [
      "100%|██████████| 154/154 [00:14<00:00, 10.93it/s]\n",
      "100%|██████████| 54/54 [00:06<00:00,  8.35it/s]\n"
     ]
    },
    {
     "name": "stdout",
     "output_type": "stream",
     "text": [
      "[002/030] 20.58 sec(s) Train Acc: 0.717133 Loss: 0.001125\n"
     ]
    },
    {
     "name": "stderr",
     "output_type": "stream",
     "text": [
      "100%|██████████| 154/154 [00:13<00:00, 11.01it/s]\n",
      "100%|██████████| 54/54 [00:06<00:00,  8.63it/s]\n"
     ]
    },
    {
     "name": "stdout",
     "output_type": "stream",
     "text": [
      "[003/030] 20.27 sec(s) Train Acc: 0.718111 Loss: 0.001065\n"
     ]
    },
    {
     "name": "stderr",
     "output_type": "stream",
     "text": [
      "100%|██████████| 154/154 [00:14<00:00, 10.53it/s]\n",
      "100%|██████████| 54/54 [00:06<00:00,  8.67it/s]\n"
     ]
    },
    {
     "name": "stdout",
     "output_type": "stream",
     "text": [
      "[004/030] 20.87 sec(s) Train Acc: 0.718111 Loss: 0.001118\n"
     ]
    },
    {
     "name": "stderr",
     "output_type": "stream",
     "text": [
      "100%|██████████| 154/154 [00:14<00:00, 10.97it/s]\n",
      "100%|██████████| 54/54 [00:06<00:00,  8.43it/s]\n"
     ]
    },
    {
     "name": "stdout",
     "output_type": "stream",
     "text": [
      "[005/030] 20.46 sec(s) Train Acc: 0.715704 Loss: 0.001207\n"
     ]
    },
    {
     "name": "stderr",
     "output_type": "stream",
     "text": [
      "100%|██████████| 154/154 [00:14<00:00, 10.82it/s]\n",
      "100%|██████████| 54/54 [00:06<00:00,  8.48it/s]\n"
     ]
    },
    {
     "name": "stdout",
     "output_type": "stream",
     "text": [
      "[006/030] 20.61 sec(s) Train Acc: 0.716005 Loss: 0.001134\n"
     ]
    },
    {
     "name": "stderr",
     "output_type": "stream",
     "text": [
      "100%|██████████| 154/154 [00:14<00:00, 10.97it/s]\n",
      "100%|██████████| 54/54 [00:06<00:00,  8.30it/s]\n"
     ]
    },
    {
     "name": "stdout",
     "output_type": "stream",
     "text": [
      "[007/030] 20.56 sec(s) Train Acc: 0.719690 Loss: 0.001148\n"
     ]
    },
    {
     "name": "stderr",
     "output_type": "stream",
     "text": [
      "100%|██████████| 154/154 [00:14<00:00, 10.95it/s]\n",
      "100%|██████████| 54/54 [00:06<00:00,  8.72it/s]\n"
     ]
    },
    {
     "name": "stdout",
     "output_type": "stream",
     "text": [
      "[008/030] 20.27 sec(s) Train Acc: 0.715328 Loss: 0.001146\n"
     ]
    },
    {
     "name": "stderr",
     "output_type": "stream",
     "text": [
      "100%|██████████| 154/154 [00:14<00:00, 10.85it/s]\n",
      "100%|██████████| 54/54 [00:06<00:00,  8.72it/s]\n"
     ]
    },
    {
     "name": "stdout",
     "output_type": "stream",
     "text": [
      "[009/030] 20.40 sec(s) Train Acc: 0.716456 Loss: 0.001142\n"
     ]
    },
    {
     "name": "stderr",
     "output_type": "stream",
     "text": [
      "100%|██████████| 154/154 [00:13<00:00, 11.05it/s]\n",
      "100%|██████████| 54/54 [00:06<00:00,  8.33it/s]\n"
     ]
    },
    {
     "name": "stdout",
     "output_type": "stream",
     "text": [
      "[010/030] 20.44 sec(s) Train Acc: 0.714801 Loss: 0.001239\n"
     ]
    },
    {
     "name": "stderr",
     "output_type": "stream",
     "text": [
      "100%|██████████| 154/154 [00:14<00:00, 10.59it/s]\n",
      "100%|██████████| 54/54 [00:06<00:00,  8.55it/s]\n"
     ]
    },
    {
     "name": "stdout",
     "output_type": "stream",
     "text": [
      "[011/030] 20.87 sec(s) Train Acc: 0.716907 Loss: 0.001150\n"
     ]
    },
    {
     "name": "stderr",
     "output_type": "stream",
     "text": [
      "100%|██████████| 154/154 [00:13<00:00, 11.13it/s]\n",
      "100%|██████████| 54/54 [00:06<00:00,  8.69it/s]\n"
     ]
    },
    {
     "name": "stdout",
     "output_type": "stream",
     "text": [
      "[012/030] 20.06 sec(s) Train Acc: 0.717735 Loss: 0.001177\n"
     ]
    },
    {
     "name": "stderr",
     "output_type": "stream",
     "text": [
      "100%|██████████| 154/154 [00:14<00:00, 10.96it/s]\n",
      "100%|██████████| 54/54 [00:06<00:00,  8.58it/s]\n"
     ]
    },
    {
     "name": "stdout",
     "output_type": "stream",
     "text": [
      "[013/030] 20.37 sec(s) Train Acc: 0.714952 Loss: 0.001191\n"
     ]
    },
    {
     "name": "stderr",
     "output_type": "stream",
     "text": [
      "100%|██████████| 154/154 [00:13<00:00, 11.01it/s]\n",
      "100%|██████████| 54/54 [00:06<00:00,  8.65it/s]\n"
     ]
    },
    {
     "name": "stdout",
     "output_type": "stream",
     "text": [
      "[014/030] 20.24 sec(s) Train Acc: 0.716682 Loss: 0.001115\n"
     ]
    },
    {
     "name": "stderr",
     "output_type": "stream",
     "text": [
      "100%|██████████| 154/154 [00:14<00:00, 10.83it/s]\n",
      "100%|██████████| 54/54 [00:06<00:00,  8.82it/s]\n"
     ]
    },
    {
     "name": "stdout",
     "output_type": "stream",
     "text": [
      "[015/030] 20.36 sec(s) Train Acc: 0.717359 Loss: 0.001094\n"
     ]
    },
    {
     "name": "stderr",
     "output_type": "stream",
     "text": [
      "100%|██████████| 154/154 [00:13<00:00, 11.15it/s]\n",
      "100%|██████████| 54/54 [00:06<00:00,  8.19it/s]\n"
     ]
    },
    {
     "name": "stdout",
     "output_type": "stream",
     "text": [
      "[016/030] 20.42 sec(s) Train Acc: 0.717885 Loss: 0.001108\n"
     ]
    },
    {
     "name": "stderr",
     "output_type": "stream",
     "text": [
      "100%|██████████| 154/154 [00:13<00:00, 11.14it/s]\n",
      "100%|██████████| 54/54 [00:06<00:00,  8.80it/s]\n"
     ]
    },
    {
     "name": "stdout",
     "output_type": "stream",
     "text": [
      "[017/030] 19.98 sec(s) Train Acc: 0.717058 Loss: 0.001191\n"
     ]
    },
    {
     "name": "stderr",
     "output_type": "stream",
     "text": [
      "100%|██████████| 154/154 [00:14<00:00, 10.74it/s]\n",
      "100%|██████████| 54/54 [00:06<00:00,  8.64it/s]\n"
     ]
    },
    {
     "name": "stdout",
     "output_type": "stream",
     "text": [
      "[018/030] 20.61 sec(s) Train Acc: 0.717960 Loss: 0.001097\n"
     ]
    },
    {
     "name": "stderr",
     "output_type": "stream",
     "text": [
      "100%|██████████| 154/154 [00:13<00:00, 11.04it/s]\n",
      "100%|██████████| 54/54 [00:06<00:00,  8.37it/s]\n"
     ]
    },
    {
     "name": "stdout",
     "output_type": "stream",
     "text": [
      "[019/030] 20.42 sec(s) Train Acc: 0.716606 Loss: 0.001197\n"
     ]
    },
    {
     "name": "stderr",
     "output_type": "stream",
     "text": [
      "100%|██████████| 154/154 [00:13<00:00, 11.06it/s]\n",
      "100%|██████████| 54/54 [00:06<00:00,  8.55it/s]\n"
     ]
    },
    {
     "name": "stdout",
     "output_type": "stream",
     "text": [
      "[020/030] 20.26 sec(s) Train Acc: 0.717659 Loss: 0.001131\n"
     ]
    },
    {
     "name": "stderr",
     "output_type": "stream",
     "text": [
      "100%|██████████| 154/154 [00:13<00:00, 11.04it/s]\n",
      "100%|██████████| 54/54 [00:06<00:00,  8.28it/s]\n"
     ]
    },
    {
     "name": "stdout",
     "output_type": "stream",
     "text": [
      "[021/030] 20.49 sec(s) Train Acc: 0.718712 Loss: 0.001100\n"
     ]
    },
    {
     "name": "stderr",
     "output_type": "stream",
     "text": [
      "100%|██████████| 154/154 [00:13<00:00, 11.21it/s]\n",
      "100%|██████████| 54/54 [00:06<00:00,  8.41it/s]\n"
     ]
    },
    {
     "name": "stdout",
     "output_type": "stream",
     "text": [
      "[022/030] 20.17 sec(s) Train Acc: 0.718788 Loss: 0.001055\n"
     ]
    },
    {
     "name": "stderr",
     "output_type": "stream",
     "text": [
      "100%|██████████| 154/154 [00:14<00:00, 10.66it/s]\n",
      "100%|██████████| 54/54 [00:06<00:00,  8.41it/s]\n"
     ]
    },
    {
     "name": "stdout",
     "output_type": "stream",
     "text": [
      "[023/030] 20.88 sec(s) Train Acc: 0.715554 Loss: 0.001180\n"
     ]
    },
    {
     "name": "stderr",
     "output_type": "stream",
     "text": [
      "100%|██████████| 154/154 [00:14<00:00, 10.81it/s]\n",
      "100%|██████████| 54/54 [00:06<00:00,  8.29it/s]\n"
     ]
    },
    {
     "name": "stdout",
     "output_type": "stream",
     "text": [
      "[024/030] 20.77 sec(s) Train Acc: 0.719690 Loss: 0.001119\n"
     ]
    },
    {
     "name": "stderr",
     "output_type": "stream",
     "text": [
      "100%|██████████| 154/154 [00:15<00:00,  9.88it/s]\n",
      "100%|██████████| 54/54 [00:06<00:00,  8.32it/s]\n"
     ]
    },
    {
     "name": "stdout",
     "output_type": "stream",
     "text": [
      "[025/030] 22.10 sec(s) Train Acc: 0.717659 Loss: 0.001140\n"
     ]
    },
    {
     "name": "stderr",
     "output_type": "stream",
     "text": [
      "100%|██████████| 154/154 [00:14<00:00, 10.67it/s]\n",
      "100%|██████████| 54/54 [00:06<00:00,  8.70it/s]\n"
     ]
    },
    {
     "name": "stdout",
     "output_type": "stream",
     "text": [
      "[026/030] 20.66 sec(s) Train Acc: 0.718487 Loss: 0.001083\n"
     ]
    },
    {
     "name": "stderr",
     "output_type": "stream",
     "text": [
      "100%|██████████| 154/154 [00:13<00:00, 11.18it/s]\n",
      "100%|██████████| 54/54 [00:06<00:00,  8.45it/s]\n"
     ]
    },
    {
     "name": "stdout",
     "output_type": "stream",
     "text": [
      "[027/030] 20.18 sec(s) Train Acc: 0.715403 Loss: 0.001190\n"
     ]
    },
    {
     "name": "stderr",
     "output_type": "stream",
     "text": [
      "100%|██████████| 154/154 [00:14<00:00, 10.60it/s]\n",
      "100%|██████████| 54/54 [00:06<00:00,  8.24it/s]\n"
     ]
    },
    {
     "name": "stdout",
     "output_type": "stream",
     "text": [
      "[028/030] 21.10 sec(s) Train Acc: 0.717058 Loss: 0.001051\n"
     ]
    },
    {
     "name": "stderr",
     "output_type": "stream",
     "text": [
      "100%|██████████| 154/154 [00:14<00:00, 10.56it/s]\n",
      "100%|██████████| 54/54 [00:06<00:00,  8.67it/s]\n"
     ]
    },
    {
     "name": "stdout",
     "output_type": "stream",
     "text": [
      "[029/030] 20.83 sec(s) Train Acc: 0.715102 Loss: 0.001133\n"
     ]
    },
    {
     "name": "stderr",
     "output_type": "stream",
     "text": [
      "100%|██████████| 154/154 [00:14<00:00, 10.91it/s]\n",
      "100%|██████████| 54/54 [00:06<00:00,  8.68it/s]"
     ]
    },
    {
     "name": "stdout",
     "output_type": "stream",
     "text": [
      "[030/030] 20.35 sec(s) Train Acc: 0.716230 Loss: 0.001155\n"
     ]
    },
    {
     "name": "stderr",
     "output_type": "stream",
     "text": [
      "\n"
     ]
    }
   ],
   "source": [
    "model_best = StudentNet(base=16).cuda()\n",
    "loss = nn.CrossEntropyLoss() # 因為是 classification task，所以 loss 使用 CrossEntropyLoss\n",
    "optimizer = torch.optim.Adam(model_best.parameters(), lr=0.001) # optimizer 使用 Adam\n",
    "num_epoch = 30\n",
    "\n",
    "for epoch in range(num_epoch):\n",
    "    epoch_start_time = time.time()\n",
    "    train_acc = 0.0\n",
    "    train_loss = 0.0\n",
    "\n",
    "\n",
    "    model.train() # 确保 model 是在 train model (开启 Dropout 等...)\n",
    "    for image, label in tqdm(train_loader):\n",
    "        optimizer.zero_grad() # 用 optimizer 将 model 参数的 gradient 置零\n",
    "        \n",
    "        image = image.to(device)  # 如果有GPU则在GPU上运行\n",
    "        label = label.to(device)\n",
    "        \n",
    "        train_pred = model(image) # 利用 model 得到预测的概率分布 这边实际上就是去呼叫 model 的 forward 函数\n",
    "        batch_loss = loss(train_pred, label) # 计算 loss （注意 prediction 跟 label 必须同时在 CPU 或是 GPU 上）\n",
    "        batch_loss.backward() # 利用 back propagation 算出每個参数的 gradient\n",
    "        optimizer.step() # 以 optimizer 用 gradient 更新参数值\n",
    "        \n",
    "        train_acc += torch.sum(torch.argmax(train_pred, dim=1) == label).item()\n",
    "        train_loss += batch_loss.item()\n",
    "    \n",
    "    model.eval()\n",
    "    with torch.no_grad():\n",
    "        for image, label in tqdm(val_loader):\n",
    "            image = image.to(device)\n",
    "            label = label.to(device)\n",
    "            \n",
    "            val_pred = model(image)\n",
    "            batch_loss = loss(val_pred, label)\n",
    "\n",
    "\n",
    "\n",
    "        #將結果 print 出來\n",
    "    print('[%03d/%03d] %2.2f sec(s) Train Acc: %3.6f Loss: %3.6f' % \\\n",
    "      (epoch + 1, num_epoch, time.time()-epoch_start_time, \\\n",
    "      train_acc/train_val_set.__len__(), train_loss/train_val_set.__len__()))"
   ]
  },
  {
   "cell_type": "markdown",
   "metadata": {},
   "source": [
    "原始CNN model"
   ]
  },
  {
   "cell_type": "code",
   "execution_count": 13,
   "metadata": {},
   "outputs": [
    {
     "name": "stdout",
     "output_type": "stream",
     "text": [
      "Total number of param in model is  251531\n"
     ]
    }
   ],
   "source": [
    "class Classifier_a(nn.Module):\n",
    "    def __init__(self):\n",
    "        super(Classifier_a, self).__init__()\n",
    "        # torch.nn.Conv2d(in_channels, out_channels, kernel_size, stride, padding)\n",
    "        # torch.nn.MaxPool2d(kernel_size, stride, padding)\n",
    "        self.cnn = nn.Sequential(\n",
    "            nn.Conv2d(3, 64, 3, 1, 1),  # [64, 224, 224]\n",
    "            nn.BatchNorm2d(64),\n",
    "            nn.ReLU(),\n",
    "            nn.MaxPool2d(2, 2, 0),      # [64, 112, 112]\n",
    "\n",
    "            nn.Conv2d(64, 256, 3, 1, 1), # [256, 112, 112]\n",
    "            nn.BatchNorm2d(256),\n",
    "            nn.ReLU(),\n",
    "            nn.MaxPool2d(2, 2, 0),      # [256, 56, 56]\n",
    "\n",
    "            nn.AdaptiveAvgPool2d((6, 6)),\n",
    "        )\n",
    "        self.fc = nn.Sequential(\n",
    "            nn.Linear(256*6*6, 11)\n",
    "        )\n",
    "\n",
    "    def forward(self, x):\n",
    "        out = self.cnn(x)\n",
    "        out = out.view(out.size()[0], -1)\n",
    "        return self.fc(out)\n",
    "\n",
    "print(\"Total number of param in model is \", sum(x.numel() for x in Classifier_a().parameters()))"
   ]
  },
  {
   "cell_type": "code",
   "execution_count": 15,
   "metadata": {},
   "outputs": [
    {
     "name": "stdout",
     "output_type": "stream",
     "text": [
      "----------------------------------------------------------------\n",
      "        Layer (type)               Output Shape         Param #\n",
      "================================================================\n",
      "            Conv2d-1         [-1, 64, 512, 512]           1,792\n",
      "       BatchNorm2d-2         [-1, 64, 512, 512]             128\n",
      "              ReLU-3         [-1, 64, 512, 512]               0\n",
      "         MaxPool2d-4         [-1, 64, 256, 256]               0\n",
      "            Conv2d-5        [-1, 256, 256, 256]         147,712\n",
      "       BatchNorm2d-6        [-1, 256, 256, 256]             512\n",
      "              ReLU-7        [-1, 256, 256, 256]               0\n",
      "         MaxPool2d-8        [-1, 256, 128, 128]               0\n",
      " AdaptiveAvgPool2d-9            [-1, 256, 6, 6]               0\n",
      "           Linear-10                   [-1, 11]         101,387\n",
      "================================================================\n",
      "Total params: 251,531\n",
      "Trainable params: 251,531\n",
      "Non-trainable params: 0\n",
      "----------------------------------------------------------------\n",
      "Input size (MB): 3.00\n",
      "Forward/backward pass size (MB): 832.07\n",
      "Params size (MB): 0.96\n",
      "Estimated Total Size (MB): 836.03\n",
      "----------------------------------------------------------------\n"
     ]
    }
   ],
   "source": [
    "model_a =Classifier_a()\n",
    "summary(model_a, (3, 512, 512), device=\"cpu\")"
   ]
  },
  {
   "cell_type": "code",
   "execution_count": 16,
   "metadata": {},
   "outputs": [
    {
     "name": "stdout",
     "output_type": "stream",
     "text": [
      "[001/030] 38.80 sec(s) Train Acc: 0.293635 Loss: 0.034054 | Val Acc: 0.346064 loss: 0.030617\n",
      "[002/030] 38.69 sec(s) Train Acc: 0.389722 Loss: 0.028131 | Val Acc: 0.397668 loss: 0.029314\n",
      "[003/030] 38.77 sec(s) Train Acc: 0.426819 Loss: 0.026144 | Val Acc: 0.430612 loss: 0.026582\n",
      "[004/030] 38.57 sec(s) Train Acc: 0.461281 Loss: 0.024652 | Val Acc: 0.420991 loss: 0.027831\n",
      "[005/030] 38.74 sec(s) Train Acc: 0.487533 Loss: 0.023356 | Val Acc: 0.492420 loss: 0.023971\n",
      "[006/030] 38.63 sec(s) Train Acc: 0.506892 Loss: 0.022515 | Val Acc: 0.487172 loss: 0.024347\n",
      "[007/030] 38.69 sec(s) Train Acc: 0.525542 Loss: 0.021429 | Val Acc: 0.493586 loss: 0.024376\n",
      "[008/030] 38.74 sec(s) Train Acc: 0.548449 Loss: 0.020639 | Val Acc: 0.501749 loss: 0.022675\n",
      "[009/030] 38.84 sec(s) Train Acc: 0.553618 Loss: 0.019993 | Val Acc: 0.501458 loss: 0.022910\n",
      "[010/030] 38.69 sec(s) Train Acc: 0.560511 Loss: 0.019981 | Val Acc: 0.520408 loss: 0.022585\n",
      "[011/030] 38.70 sec(s) Train Acc: 0.575309 Loss: 0.019347 | Val Acc: 0.519242 loss: 0.022738\n",
      "[012/030] 38.86 sec(s) Train Acc: 0.596290 Loss: 0.018636 | Val Acc: 0.536443 loss: 0.021902\n",
      "[013/030] 38.66 sec(s) Train Acc: 0.598926 Loss: 0.018456 | Val Acc: 0.514286 loss: 0.022571\n",
      "[014/030] 38.65 sec(s) Train Acc: 0.603994 Loss: 0.018057 | Val Acc: 0.545190 loss: 0.021673\n",
      "[015/030] 38.59 sec(s) Train Acc: 0.610480 Loss: 0.017778 | Val Acc: 0.511662 loss: 0.023284\n",
      "[016/030] 38.68 sec(s) Train Acc: 0.618285 Loss: 0.017355 | Val Acc: 0.537026 loss: 0.021319\n",
      "[017/030] 38.70 sec(s) Train Acc: 0.625583 Loss: 0.016851 | Val Acc: 0.570845 loss: 0.020303\n",
      "[018/030] 38.81 sec(s) Train Acc: 0.636631 Loss: 0.016693 | Val Acc: 0.558892 loss: 0.020986\n",
      "[019/030] 38.93 sec(s) Train Acc: 0.639773 Loss: 0.016432 | Val Acc: 0.562391 loss: 0.021019\n",
      "[020/030] 38.99 sec(s) Train Acc: 0.649503 Loss: 0.016028 | Val Acc: 0.566764 loss: 0.020429\n",
      "[021/030] 38.69 sec(s) Train Acc: 0.657105 Loss: 0.015751 | Val Acc: 0.544898 loss: 0.021613\n",
      "[022/030] 38.76 sec(s) Train Acc: 0.658828 Loss: 0.015682 | Val Acc: 0.577551 loss: 0.020040\n",
      "[023/030] 38.76 sec(s) Train Acc: 0.673728 Loss: 0.015033 | Val Acc: 0.575802 loss: 0.020470\n",
      "[024/030] 38.87 sec(s) Train Acc: 0.663288 Loss: 0.015255 | Val Acc: 0.552478 loss: 0.022086\n",
      "[025/030] 38.67 sec(s) Train Acc: 0.681127 Loss: 0.014706 | Val Acc: 0.583382 loss: 0.020515\n",
      "[026/030] 38.67 sec(s) Train Acc: 0.684371 Loss: 0.014378 | Val Acc: 0.582799 loss: 0.020459\n",
      "[027/030] 38.80 sec(s) Train Acc: 0.687209 Loss: 0.014276 | Val Acc: 0.538776 loss: 0.023220\n",
      "[028/030] 38.78 sec(s) Train Acc: 0.693493 Loss: 0.013963 | Val Acc: 0.573178 loss: 0.020653\n",
      "[029/030] 38.65 sec(s) Train Acc: 0.702311 Loss: 0.013686 | Val Acc: 0.589213 loss: 0.019575\n",
      "[030/030] 38.66 sec(s) Train Acc: 0.705656 Loss: 0.013412 | Val Acc: 0.599125 loss: 0.019454\n"
     ]
    }
   ],
   "source": [
    "model_a=model_a.to(device)\n",
    "loss = nn.CrossEntropyLoss() # 因為是 classification task，所以 loss 使用 CrossEntropyLoss\n",
    "optimizer = torch.optim.Adam(model_a.parameters(), lr=0.001) # optimizer 使用 Adam\n",
    "num_epoch = 30\n",
    "train_acc_list = []\n",
    "train_loss_list = []\n",
    "val_acc_list = []\n",
    "val_loss_list = []\n",
    "for epoch in range(num_epoch):\n",
    "    epoch_start_time = time.time()\n",
    "    train_acc = 0.0\n",
    "    train_loss = 0.0\n",
    "    val_acc = 0.0\n",
    "    val_loss = 0.0\n",
    "\n",
    "    model_a.train() # 確保 model 是在 train model (開啟 Dropout 等...)\n",
    "    for i, data in enumerate(train_loader):\n",
    "        optimizer.zero_grad() # 用 optimizer 將 model 參數的 gradient 歸零\n",
    "        train_pred = model_a(data[0].to(device)) # 利用 model 得到預測的機率分佈 這邊實際上就是去呼叫 model 的 forward 函數\n",
    "        batch_loss = loss(train_pred, data[1].to(device)) # 計算 loss （注意 prediction 跟 label 必須同時在 CPU 或是 GPU 上）\n",
    "        batch_loss.backward() # 利用 back propagation 算出每個參數的 gradient\n",
    "        optimizer.step() # 以 optimizer 用 gradient 更新參數值\n",
    "\n",
    "        train_acc += np.sum(np.argmax(train_pred.cpu().data.numpy(), axis=1) == data[1].numpy())\n",
    "        train_loss += batch_loss.item()\n",
    "    \n",
    "    model_a.eval()\n",
    "    with torch.no_grad():\n",
    "        for i, data in enumerate(val_loader):\n",
    "            val_pred = model_a(data[0].to(device))\n",
    "            batch_loss = loss(val_pred, data[1].to(device))\n",
    "\n",
    "            val_acc += np.sum(np.argmax(val_pred.cpu().data.numpy(), axis=1) == data[1].numpy())\n",
    "            val_loss += batch_loss.item()\n",
    "\n",
    "        #將結果 print 出來\n",
    "        print('[%03d/%03d] %2.2f sec(s) Train Acc: %3.6f Loss: %3.6f | Val Acc: %3.6f loss: %3.6f' % \\\n",
    "            (epoch + 1, num_epoch, time.time()-epoch_start_time, \\\n",
    "             train_acc/train_set.__len__(), train_loss/train_set.__len__(), val_acc/val_set.__len__(), val_loss/val_set.__len__()))\n",
    "        train_acc_list.append(train_acc/train_set.__len__())\n",
    "        train_loss_list.append(train_loss/train_set.__len__())\n",
    "        val_acc_list.append(val_acc/val_set.__len__())\n",
    "        val_loss_list.append(val_loss/val_set.__len__())"
   ]
  },
  {
   "cell_type": "code",
   "execution_count": 17,
   "metadata": {},
   "outputs": [
    {
     "data": {
      "image/png": "[encoded data removed]",
      "text/plain": [
       "<Figure size 432x288 with 1 Axes>"
      ]
     },
     "metadata": {
      "needs_background": "light"
     },
     "output_type": "display_data"
    }
   ],
   "source": [
    "#plt.figure(figsize=(10, 10))\n",
    "plt.plot(range(num_epoch), train_loss_list, color='red', linewidth=3.0, linestyle='-', label='train_loss')\n",
    "plt.plot(range(num_epoch), val_loss_list, color='blue', linewidth=3.0, linestyle='-', label='val_loss')\n",
    "plt.legend()\n",
    "plt.show()"
   ]
  },
  {
   "cell_type": "code",
   "execution_count": 18,
   "metadata": {},
   "outputs": [
    {
     "data": {
      "image/png": "[encoded data removed]",
      "text/plain": [
       "<Figure size 432x288 with 1 Axes>"
      ]
     },
     "metadata": {
      "needs_background": "light"
     },
     "output_type": "display_data"
    }
   ],
   "source": [
    "plt.plot(range(num_epoch), val_acc_list, color='blue', linewidth=2.0, linestyle='--', label='val_acc')\n",
    "plt.plot(range(num_epoch), train_acc_list, color='red', linewidth=2.0, linestyle='--', label='train_acc')\n",
    "plt.legend()\n",
    "plt.show()"
   ]
  },
  {
   "cell_type": "markdown",
   "metadata": {},
   "source": [
    "CNN model 的 Convolution Layer 换成总参数量接近的 Group Convolution Layer "
   ]
  },
  {
   "cell_type": "code",
   "execution_count": 19,
   "metadata": {},
   "outputs": [
    {
     "name": "stdout",
     "output_type": "stream",
     "text": [
      "Total number of param in model is  242507\n"
     ]
    }
   ],
   "source": [
    "class Classifier_c(nn.Module):\n",
    "    def __init__(self):\n",
    "        super(Classifier_c, self).__init__()\n",
    "        # torch.nn.Conv2d(in_channels, out_channels, kernel_size, stride, padding)\n",
    "        # torch.nn.MaxPool2d(kernel_size, stride, padding)\n",
    "        # input 維度 [3, 128, 128]\n",
    "        self.cnn = nn.Sequential(\n",
    "            nn.Conv2d(3, 64, 3, 1, 1),  # [64, 224, 224]\n",
    "            nn.BatchNorm2d(64),\n",
    "            nn.ReLU(),\n",
    "            nn.MaxPool2d(2, 2, 0),      # [64, 112, 112]\n",
    "\n",
    "            nn.Conv2d(64, 128, 3, 1, 1, groups = 32), # [128, 112, 112]\n",
    "            nn.BatchNorm2d(128),\n",
    "            nn.ReLU(),\n",
    "            nn.MaxPool2d(2, 2, 0),      # [128, 56, 56]\n",
    "\n",
    "            nn.Conv2d(128, 256, 3, 1, 1, groups = 64), # [256, 56, 56]\n",
    "            nn.BatchNorm2d(256),\n",
    "            nn.ReLU(),\n",
    "            nn.MaxPool2d(2, 2, 0),      # [256, 28, 28]\n",
    "\n",
    "            nn.Conv2d(256, 512, 3, 1, 1, groups = 128), # [512, 28, 28]\n",
    "            nn.BatchNorm2d(512),\n",
    "            nn.ReLU(),\n",
    "            nn.MaxPool2d(2, 2, 0),      # [256, 14, 14]\n",
    "\n",
    "            nn.AdaptiveAvgPool2d((3, 3)),\n",
    "        )\n",
    "        self.fc = nn.Sequential(\n",
    "            nn.Linear(512*3*3, 48),\n",
    "            nn.ReLU(),\n",
    "            nn.Linear(48, 11),\n",
    "        )\n",
    "\n",
    "    def forward(self, x):\n",
    "        out = self.cnn(x)\n",
    "        out = out.view(out.size()[0], -1)\n",
    "        return self.fc(out)\n",
    "\n",
    "print(\"Total number of param in model is \", sum(x.numel() for x in Classifier_c().parameters()))"
   ]
  },
  {
   "cell_type": "code",
   "execution_count": 20,
   "metadata": {},
   "outputs": [
    {
     "name": "stdout",
     "output_type": "stream",
     "text": [
      "----------------------------------------------------------------\n",
      "        Layer (type)               Output Shape         Param #\n",
      "================================================================\n",
      "            Conv2d-1         [-1, 64, 512, 512]           1,792\n",
      "       BatchNorm2d-2         [-1, 64, 512, 512]             128\n",
      "              ReLU-3         [-1, 64, 512, 512]               0\n",
      "         MaxPool2d-4         [-1, 64, 256, 256]               0\n",
      "            Conv2d-5        [-1, 128, 256, 256]           2,432\n",
      "       BatchNorm2d-6        [-1, 128, 256, 256]             256\n",
      "              ReLU-7        [-1, 128, 256, 256]               0\n",
      "         MaxPool2d-8        [-1, 128, 128, 128]               0\n",
      "            Conv2d-9        [-1, 256, 128, 128]           4,864\n",
      "      BatchNorm2d-10        [-1, 256, 128, 128]             512\n",
      "             ReLU-11        [-1, 256, 128, 128]               0\n",
      "        MaxPool2d-12          [-1, 256, 64, 64]               0\n",
      "           Conv2d-13          [-1, 512, 64, 64]           9,728\n",
      "      BatchNorm2d-14          [-1, 512, 64, 64]           1,024\n",
      "             ReLU-15          [-1, 512, 64, 64]               0\n",
      "        MaxPool2d-16          [-1, 512, 32, 32]               0\n",
      "AdaptiveAvgPool2d-17            [-1, 512, 3, 3]               0\n",
      "           Linear-18                   [-1, 48]         221,232\n",
      "             ReLU-19                   [-1, 48]               0\n",
      "           Linear-20                   [-1, 11]             539\n",
      "================================================================\n",
      "Total params: 242,507\n",
      "Trainable params: 242,507\n",
      "Non-trainable params: 0\n",
      "----------------------------------------------------------------\n",
      "Input size (MB): 3.00\n",
      "Forward/backward pass size (MB): 780.04\n",
      "Params size (MB): 0.93\n",
      "Estimated Total Size (MB): 783.96\n",
      "----------------------------------------------------------------\n"
     ]
    }
   ],
   "source": [
    "model_c =Classifier_c()\n",
    "summary(model_c, (3, 512, 512), device=\"cpu\")"
   ]
  },
  {
   "cell_type": "code",
   "execution_count": 21,
   "metadata": {},
   "outputs": [
    {
     "name": "stdout",
     "output_type": "stream",
     "text": [
      "[001/030] 122.68 sec(s) Train Acc: 0.336712 Loss: 0.030302 | Val Acc: 0.407580 loss: 0.026646\n",
      "[002/030] 122.71 sec(s) Train Acc: 0.456923 Loss: 0.024544 | Val Acc: 0.488630 loss: 0.023471\n",
      "[003/030] 122.60 sec(s) Train Acc: 0.521691 Loss: 0.021817 | Val Acc: 0.486297 loss: 0.022309\n",
      "[004/030] 122.61 sec(s) Train Acc: 0.557977 Loss: 0.020133 | Val Acc: 0.545773 loss: 0.020939\n",
      "[005/030] 122.75 sec(s) Train Acc: 0.589601 Loss: 0.018856 | Val Acc: 0.584548 loss: 0.019340\n",
      "[006/030] 122.74 sec(s) Train Acc: 0.604906 Loss: 0.018012 | Val Acc: 0.599125 loss: 0.018715\n",
      "[007/030] 122.81 sec(s) Train Acc: 0.622137 Loss: 0.017227 | Val Acc: 0.598834 loss: 0.018499\n",
      "[008/030] 123.17 sec(s) Train Acc: 0.623860 Loss: 0.017084 | Val Acc: 0.606997 loss: 0.018378\n",
      "[009/030] 122.53 sec(s) Train Acc: 0.649605 Loss: 0.015985 | Val Acc: 0.612828 loss: 0.017654\n",
      "[010/030] 122.50 sec(s) Train Acc: 0.657815 Loss: 0.015723 | Val Acc: 0.601749 loss: 0.018039\n",
      "[011/030] 122.64 sec(s) Train Acc: 0.669065 Loss: 0.015055 | Val Acc: 0.631195 loss: 0.017213\n",
      "[012/030] 122.77 sec(s) Train Acc: 0.678695 Loss: 0.014816 | Val Acc: 0.646064 loss: 0.016816\n",
      "[013/030] 122.24 sec(s) Train Acc: 0.683154 Loss: 0.014385 | Val Acc: 0.627114 loss: 0.017721\n",
      "[014/030] 122.77 sec(s) Train Acc: 0.685283 Loss: 0.014357 | Val Acc: 0.641983 loss: 0.017228\n",
      "[015/030] 122.91 sec(s) Train Acc: 0.696838 Loss: 0.013643 | Val Acc: 0.643732 loss: 0.017044\n",
      "[016/030] 122.78 sec(s) Train Acc: 0.705453 Loss: 0.013421 | Val Acc: 0.643732 loss: 0.016964\n",
      "[017/030] 123.29 sec(s) Train Acc: 0.703831 Loss: 0.013336 | Val Acc: 0.644606 loss: 0.016890\n",
      "[018/030] 122.58 sec(s) Train Acc: 0.714677 Loss: 0.012974 | Val Acc: 0.650729 loss: 0.016543\n",
      "[019/030] 122.90 sec(s) Train Acc: 0.728968 Loss: 0.012350 | Val Acc: 0.627114 loss: 0.017611\n",
      "[020/030] 123.30 sec(s) Train Acc: 0.726333 Loss: 0.012406 | Val Acc: 0.636152 loss: 0.017045\n",
      "[021/030] 123.95 sec(s) Train Acc: 0.738293 Loss: 0.012021 | Val Acc: 0.650437 loss: 0.016285\n",
      "[022/030] 123.33 sec(s) Train Acc: 0.731097 Loss: 0.012245 | Val Acc: 0.646939 loss: 0.016938\n",
      "[023/030] 123.10 sec(s) Train Acc: 0.744881 Loss: 0.011694 | Val Acc: 0.668222 loss: 0.016089\n",
      "[024/030] 123.22 sec(s) Train Acc: 0.748328 Loss: 0.011451 | Val Acc: 0.672303 loss: 0.015880\n",
      "[025/030] 123.21 sec(s) Train Acc: 0.753091 Loss: 0.011090 | Val Acc: 0.676093 loss: 0.015926\n",
      "[026/030] 123.38 sec(s) Train Acc: 0.759376 Loss: 0.010897 | Val Acc: 0.657726 loss: 0.017209\n",
      "[027/030] 123.44 sec(s) Train Acc: 0.760693 Loss: 0.010761 | Val Acc: 0.631195 loss: 0.018049\n",
      "[028/030] 123.06 sec(s) Train Acc: 0.756234 Loss: 0.010852 | Val Acc: 0.668513 loss: 0.016104\n",
      "[029/030] 123.33 sec(s) Train Acc: 0.775188 Loss: 0.010452 | Val Acc: 0.667347 loss: 0.016162\n",
      "[030/030] 123.26 sec(s) Train Acc: 0.775593 Loss: 0.010268 | Val Acc: 0.670845 loss: 0.016737\n"
     ]
    }
   ],
   "source": [
    "model_c=model_c.to(device)\n",
    "loss = nn.CrossEntropyLoss() # 因為是 classification task，所以 loss 使用 CrossEntropyLoss\n",
    "optimizer = torch.optim.Adam(model_c.parameters(), lr=0.001) # optimizer 使用 Adam\n",
    "num_epoch = 30\n",
    "train_acc_list = []\n",
    "train_loss_list = []\n",
    "val_acc_list = []\n",
    "val_loss_list = []\n",
    "for epoch in range(num_epoch):\n",
    "    epoch_start_time = time.time()\n",
    "    train_acc = 0.0\n",
    "    train_loss = 0.0\n",
    "    val_acc = 0.0\n",
    "    val_loss = 0.0\n",
    "\n",
    "    model_c.train() # 確保 model 是在 train model (開啟 Dropout 等...)\n",
    "    for i, data in enumerate(train_loader):\n",
    "        optimizer.zero_grad() # 用 optimizer 將 model 參數的 gradient 歸零\n",
    "        train_pred = model_c(data[0].to(device)) # 利用 model 得到預測的機率分佈 這邊實際上就是去呼叫 model 的 forward 函數\n",
    "        batch_loss = loss(train_pred, data[1].to(device)) # 計算 loss （注意 prediction 跟 label 必須同時在 CPU 或是 GPU 上）\n",
    "        batch_loss.backward() # 利用 back propagation 算出每個參數的 gradient\n",
    "        optimizer.step() # 以 optimizer 用 gradient 更新參數值\n",
    "\n",
    "        train_acc += np.sum(np.argmax(train_pred.cpu().data.numpy(), axis=1) == data[1].numpy())\n",
    "        train_loss += batch_loss.item()\n",
    "    \n",
    "    model_c.eval()\n",
    "    with torch.no_grad():\n",
    "        for i, data in enumerate(val_loader):\n",
    "            val_pred = model_c(data[0].to(device))\n",
    "            batch_loss = loss(val_pred, data[1].to(device))\n",
    "\n",
    "            val_acc += np.sum(np.argmax(val_pred.cpu().data.numpy(), axis=1) == data[1].numpy())\n",
    "            val_loss += batch_loss.item()\n",
    "\n",
    "        #將結果 print 出來\n",
    "        print('[%03d/%03d] %2.2f sec(s) Train Acc: %3.6f Loss: %3.6f | Val Acc: %3.6f loss: %3.6f' % \\\n",
    "            (epoch + 1, num_epoch, time.time()-epoch_start_time, \\\n",
    "             train_acc/train_set.__len__(), train_loss/train_set.__len__(), val_acc/val_set.__len__(), val_loss/val_set.__len__()))\n",
    "        train_acc_list.append(train_acc/train_set.__len__())\n",
    "        train_loss_list.append(train_loss/train_set.__len__())\n",
    "        val_acc_list.append(val_acc/val_set.__len__())\n",
    "        val_loss_list.append(val_loss/val_set.__len__())"
   ]
  },
  {
   "cell_type": "code",
   "execution_count": 22,
   "metadata": {},
   "outputs": [
    {
     "data": {
      "image/png": "[encoded data removed]",
      "text/plain": [
       "<Figure size 432x288 with 1 Axes>"
      ]
     },
     "metadata": {
      "needs_background": "light"
     },
     "output_type": "display_data"
    }
   ],
   "source": [
    "#plt.figure(figsize=(10, 10))\n",
    "plt.plot(range(num_epoch), train_loss_list, color='red', linewidth=3.0, linestyle='-', label='train_loss')\n",
    "plt.plot(range(num_epoch), val_loss_list, color='blue', linewidth=3.0, linestyle='-', label='val_loss')\n",
    "plt.legend()\n",
    "plt.show()"
   ]
  },
  {
   "cell_type": "code",
   "execution_count": 23,
   "metadata": {},
   "outputs": [
    {
     "data": {
      "image/png": "[encoded data removed]",
      "text/plain": [
       "<Figure size 432x288 with 1 Axes>"
      ]
     },
     "metadata": {
      "needs_background": "light"
     },
     "output_type": "display_data"
    }
   ],
   "source": [
    "plt.plot(range(num_epoch), val_acc_list, color='blue', linewidth=2.0, linestyle='--', label='val_acc')\n",
    "plt.plot(range(num_epoch), train_acc_list, color='red', linewidth=2.0, linestyle='--', label='train_acc')\n",
    "plt.legend()\n",
    "plt.show()"
   ]
  },
  {
   "cell_type": "markdown",
   "metadata": {},
   "source": [
    "# 课程设计 - Network Compression_2 (Knowledge Distillation)"
   ]
  },
  {
   "cell_type": "code",
   "execution_count": null,
   "metadata": {},
   "outputs": [],
   "source": [
    "# 更新库\n",
    "! python -m pip install --upgrade pip\n",
    "! pip install -U albumentations\n",
    "! pip install timm\n",
    "! pip install torchsummary\n",
    "!pip install matplotlib"
   ]
  },
  {
   "cell_type": "code",
   "execution_count": null,
   "metadata": {},
   "outputs": [],
   "source": [
    "import moxing as mox \n",
    "# 需修改为自己的OBS目录\n",
    "mox.file.copy('obs://tong-network/food-11.zip', '/home/ma-user/work/food-11.zip') # 复制数据到当前路径"
   ]
  },
  {
   "cell_type": "code",
   "execution_count": null,
   "metadata": {},
   "outputs": [],
   "source": [
    "# 解压\n",
    "!unzip food-11.zip"
   ]
  },
  {
   "cell_type": "code",
   "execution_count": null,
   "metadata": {},
   "outputs": [],
   "source": [
    "import torch\n",
    "import os\n",
    "import matplotlib.pyplot as plt\n",
    "import torch.nn as nn\n",
    "import torch.optim as optim\n",
    "import torch.nn.functional as F\n",
    "import torchvision.models as models"
   ]
  },
  {
   "cell_type": "code",
   "execution_count": null,
   "metadata": {},
   "outputs": [],
   "source": [
    "class StudentNet(nn.Module):\n",
    "\n",
    "    def __init__(self, base=16, width_mult=1):\n",
    "        super(StudentNet, self).__init__()\n",
    "        multiplier = [1, 2, 4, 8, 16, 16, 18, 18]\n",
    "        bandwidth = [ base * m for m in multiplier]\n",
    "        for i in range(3, 7):\n",
    "            bandwidth[i] = int(bandwidth[i] * width_mult)\n",
    "        self.cnn = nn.Sequential(\n",
    "            nn.Sequential(\n",
    "                nn.Conv2d(3, bandwidth[0], 3, 1, 1), \n",
    "                nn.BatchNorm2d(bandwidth[0]),\n",
    "                nn.Hardswish(),\n",
    "                nn.MaxPool2d(2, 2, 0),\n",
    "            ),\n",
    "            nn.Sequential(\n",
    "                nn.Conv2d(bandwidth[0], bandwidth[0], 3, 1, 1, groups=bandwidth[0]),\n",
    "                nn.BatchNorm2d(bandwidth[0]),\n",
    "                nn.Hardswish(),\n",
    "                nn.Conv2d(bandwidth[0], bandwidth[1], 1),\n",
    "                nn.MaxPool2d(2, 2, 0),\n",
    "            ),\n",
    "\n",
    "            nn.Sequential(\n",
    "                nn.Conv2d(bandwidth[1], bandwidth[1], 3, 1, 1, groups=bandwidth[1]),\n",
    "                nn.BatchNorm2d(bandwidth[1]),\n",
    "                nn.Hardswish(),\n",
    "                nn.Conv2d(bandwidth[1], bandwidth[2], 1),\n",
    "                nn.MaxPool2d(2, 2, 0),\n",
    "            ),\n",
    "\n",
    "            nn.Sequential(\n",
    "                nn.Conv2d(bandwidth[2], bandwidth[2], 3, 1, 1, groups=bandwidth[2]),\n",
    "                nn.BatchNorm2d(bandwidth[2]),\n",
    "                nn.Hardswish(),\n",
    "                nn.Conv2d(bandwidth[2], bandwidth[3], 1),\n",
    "                nn.MaxPool2d(2, 2, 0),\n",
    "            ),\n",
    "            nn.Sequential(\n",
    "                nn.Conv2d(bandwidth[3], bandwidth[3], 3, 1, 1, groups=bandwidth[3]),\n",
    "                nn.BatchNorm2d(bandwidth[3]),\n",
    "                nn.Hardswish(),\n",
    "                nn.Conv2d(bandwidth[3], bandwidth[4], 1),\n",
    "            ),\n",
    "\n",
    "            nn.Sequential(\n",
    "                nn.Conv2d(bandwidth[4], bandwidth[4], 3, 1, 1, groups=bandwidth[4]),\n",
    "                nn.BatchNorm2d(bandwidth[4]),\n",
    "                nn.Hardswish(),\n",
    "                nn.Conv2d(bandwidth[4], bandwidth[5], 1),\n",
    "            ),\n",
    "\n",
    "            nn.Sequential(\n",
    "                nn.Conv2d(bandwidth[5], bandwidth[5], 3, 1, 1, groups=bandwidth[5]),\n",
    "                nn.BatchNorm2d(bandwidth[5]),\n",
    "                nn.Hardswish(),\n",
    "                nn.Conv2d(bandwidth[5], bandwidth[6], 1),\n",
    "            ),\n",
    "\n",
    "            nn.Sequential(\n",
    "                nn.Conv2d(bandwidth[6], bandwidth[6], 3, 1, 1, groups=bandwidth[6]),\n",
    "                nn.BatchNorm2d(bandwidth[6]),\n",
    "                nn.Hardswish(),\n",
    "                nn.Conv2d(bandwidth[6], bandwidth[7], 1),\n",
    "            ),\n",
    "            nn.AdaptiveAvgPool2d((1, 1)),\n",
    "        )\n",
    "        self.fc = nn.Sequential(\n",
    "            nn.Linear(bandwidth[7], 11),\n",
    "        )\n",
    "\n",
    "    def forward(self, x):\n",
    "        out = self.cnn(x)\n",
    "        out = out.view(out.size()[0], -1)\n",
    "        return self.fc(out)\n"
   ]
  },
  {
   "cell_type": "code",
   "execution_count": null,
   "metadata": {},
   "outputs": [],
   "source": [
    "from torchsummary import summary\n",
    "\n",
    "student_net = StudentNet()\n",
    "summary(student_net, (3, 512, 512), device=\"cpu\")"
   ]
  },
  {
   "cell_type": "code",
   "execution_count": null,
   "metadata": {},
   "outputs": [],
   "source": [
    "def loss_fn_kd(outputs, labels, teacher_outputs, T=20, alpha=0.5):\n",
    "    # 一般的Cross Entropy\n",
    "    hard_loss = F.cross_entropy(outputs, labels) * (1. - alpha)\n",
    "    # 讓logits的log_softmax對目標機率(teacher的logits/T後softmax)做KL Divergence。\n",
    "    soft_loss = nn.KLDivLoss(reduction='batchmean')(F.log_softmax(outputs/T, dim=1),\n",
    "                             F.softmax(teacher_outputs/T, dim=1)) * (alpha * T * T)\n",
    "    return hard_loss + soft_loss"
   ]
  },
  {
   "cell_type": "code",
   "execution_count": null,
   "metadata": {},
   "outputs": [],
   "source": [
    "import re\n",
    "import torch\n",
    "from glob import glob\n",
    "from PIL import Image\n",
    "import torchvision.transforms as transforms\n",
    "\n",
    "class MyDataset(torch.utils.data.Dataset):\n",
    "\n",
    "    def __init__(self, folderName, transform=None):\n",
    "        self.transform = transform\n",
    "        self.data = []\n",
    "        self.label = []\n",
    "\n",
    "        for img_path in sorted(glob(folderName + '/*.jpg')):\n",
    "            try:\n",
    "                # Get classIdx by parsing image path\n",
    "                class_idx = int(re.findall(re.compile(r'\\d+'), img_path)[1])\n",
    "            except:\n",
    "                # if inference mode (there's no answer), class_idx default 0\n",
    "                class_idx = 0\n",
    "\n",
    "            image = Image.open(img_path)\n",
    "            # Get File Descriptor\n",
    "            image_fp = image.fp\n",
    "            image.load()\n",
    "            # Close File Descriptor (or it'll reach OPEN_MAX)\n",
    "            image_fp.close()\n",
    "\n",
    "            self.data.append(image)\n",
    "            self.label.append(class_idx)\n",
    "\n",
    "    def __len__(self):\n",
    "        return len(self.data)\n",
    "\n",
    "    def __getitem__(self, idx):\n",
    "        if torch.is_tensor(idx):\n",
    "            idx = idx.tolist()\n",
    "        image = self.data[idx]\n",
    "        if self.transform:\n",
    "            image = self.transform(image)\n",
    "        return image, self.label[idx]\n",
    "\n",
    "\n",
    "trainTransform = transforms.Compose([\n",
    "    transforms.RandomCrop(256, pad_if_needed=True, padding_mode='symmetric'),\n",
    "    transforms.RandomHorizontalFlip(),\n",
    "    transforms.RandomRotation(15),\n",
    "    transforms.ToTensor(),\n",
    "])\n",
    "testTransform = transforms.Compose([\n",
    "    transforms.CenterCrop(256),\n",
    "    transforms.ToTensor(),\n",
    "])\n",
    "\n",
    "def get_dataloader(mode='training', batch_size=32):\n",
    "\n",
    "    assert mode in ['training', 'testing', 'validation']\n",
    "\n",
    "    dataset = MyDataset(\n",
    "        f'./food-11/{mode}',\n",
    "        transform=trainTransform if mode == 'training' else testTransform)\n",
    "\n",
    "    dataloader = torch.utils.data.DataLoader(\n",
    "        dataset,\n",
    "        batch_size=batch_size,\n",
    "        shuffle=(mode == 'training'))\n",
    "\n",
    "    return dataloader\n",
    "def val_dataloader( batch_size=32):\n",
    "    dataset = MyDataset(f'./food-11/validation',transform= trainTransform)\n",
    "    dataloader = torch.utils.data.DataLoader(dataset,batch_size=batch_size,shuffle=True)\n",
    "    return dataloader\n"
   ]
  },
  {
   "cell_type": "code",
   "execution_count": null,
   "metadata": {},
   "outputs": [],
   "source": [
    "# get dataloader\n",
    "train_dataloader = get_dataloader('training', batch_size=32)\n",
    "valid_dataloader = get_dataloader('validation', batch_size=32)\n",
    "valtrain_dataloader = val_dataloader( batch_size=32)"
   ]
  },
  {
   "cell_type": "code",
   "execution_count": null,
   "metadata": {},
   "outputs": [],
   "source": [
    "teacher_net = models.resnet18(pretrained=False, num_classes=11).cuda()\n",
    "student_net = StudentNet(base=16).cuda()\n",
    "\n",
    "# 载入老师模型\n",
    "teacher_net.load_state_dict(torch.load(f'./teacher_resnet18.bin'))\n",
    "optimizer = optim.AdamW(student_net.parameters(), lr=1e-3)"
   ]
  },
  {
   "cell_type": "code",
   "execution_count": null,
   "metadata": {},
   "outputs": [],
   "source": [
    "train_acc_list = []\n",
    "train_loss_list = []\n",
    "val_acc_list = []\n",
    "val_loss_list = []\n",
    "def run_epoch(dataloader, update=True, alpha=0.5):\n",
    "    total_num, total_hit, total_loss = 0, 0, 0\n",
    "    for now_step, batch_data in enumerate(dataloader):\n",
    "        # 清空 optimizer\n",
    "        optimizer.zero_grad()\n",
    "        # 處理 input\n",
    "        inputs, hard_labels = batch_data\n",
    "        inputs = inputs.cuda()\n",
    "        hard_labels = torch.LongTensor(hard_labels).cuda()\n",
    "        # 因為Teacher沒有要backprop，所以我們使用torch.no_grad\n",
    "        # 告訴torch不要暫存中間值(去做backprop)以浪費記憶體空間。\n",
    "        with torch.no_grad():\n",
    "            soft_labels = teacher_net(inputs)\n",
    "\n",
    "        if update:\n",
    "            logits = student_net(inputs)\n",
    "            # 使用我們之前所寫的融合soft label&hard label的loss。\n",
    "            # T=20是原始論文的參數設定。\n",
    "            loss = loss_fn_kd(logits, hard_labels, soft_labels, 20, alpha)\n",
    "            loss.backward()\n",
    "            optimizer.step()    \n",
    "        else:\n",
    "            # 只是算validation acc的話，就開no_grad節省空間。\n",
    "            with torch.no_grad():\n",
    "                logits = student_net(inputs)\n",
    "                loss = loss_fn_kd(logits, hard_labels, soft_labels, 20, alpha)\n",
    "            \n",
    "        total_hit += torch.sum(torch.argmax(logits, dim=1) == hard_labels).item()\n",
    "        total_num += len(inputs)\n",
    "\n",
    "        total_loss += loss.item() * len(inputs)\n",
    "    return total_loss / total_num, total_hit / total_num\n",
    "\n",
    "\n",
    "# TeacherNet永遠都是Eval mode.\n",
    "teacher_net.eval()\n",
    "now_best_acc = 0\n",
    "for epoch in range(30):  # 200\n",
    "    student_net.train()\n",
    "    train_loss, train_acc = run_epoch(train_dataloader, update=True)\n",
    "    student_net.eval()\n",
    "    valid_loss, valid_acc = run_epoch(valid_dataloader, update=False)\n",
    "\n",
    "    # 存下最好的model。\n",
    "    if valid_acc > now_best_acc:\n",
    "        now_best_acc = valid_acc\n",
    "        torch.save(student_net.state_dict(), 'student_model.bin')  \n",
    "    print('epoch {:>3d}: train loss: {:6.4f}, acc {:6.4f} valid loss: {:6.4f}, acc {:6.4f}'.format(\n",
    "    epoch, train_loss, train_acc, valid_loss, valid_acc))\n",
    "    train_acc_list.append(train_acc)\n",
    "    train_loss_list.append(train_loss)\n",
    "    val_acc_list.append(valid_acc)\n",
    "    val_loss_list.append(valid_loss)\n"
   ]
  },
  {
   "cell_type": "code",
   "execution_count": null,
   "metadata": {},
   "outputs": [],
   "source": [
    "plt.plot(range(30), train_loss_list, color='red', linewidth=3.0, linestyle='-', label='train_loss')\n",
    "plt.plot(range(30), val_loss_list, color='blue', linewidth=3.0, linestyle='-', label='val_loss')\n",
    "plt.legend()\n",
    "plt.show()"
   ]
  },
  {
   "cell_type": "code",
   "execution_count": null,
   "metadata": {},
   "outputs": [],
   "source": [
    "plt.plot(range(30), val_acc_list, color='blue', linewidth=2.0, linestyle='--', label='val_acc')\n",
    "plt.plot(range(30), train_acc_list, color='red', linewidth=2.0, linestyle='--', label='train_acc')\n",
    "plt.legend()\n",
    "plt.show()"
   ]
  },
  {
   "cell_type": "markdown",
   "metadata": {},
   "source": [
    "Final model"
   ]
  },
  {
   "cell_type": "code",
   "execution_count": null,
   "metadata": {},
   "outputs": [],
   "source": [
    "student_net = StudentNet(base=16).cuda()\n",
    "optimizer = optim.Adam(student_net.parameters(), lr=1e-3)"
   ]
  },
  {
   "cell_type": "code",
   "execution_count": null,
   "metadata": {},
   "outputs": [],
   "source": [
    "train_acc_list = []\n",
    "train_loss_list = []\n",
    "val_acc_list = []\n",
    "val_loss_list = []\n",
    "def run_epoch(dataloader, update=True, alpha=0.5):\n",
    "    total_num, total_hit, total_loss = 0, 0, 0\n",
    "    for now_step, batch_data in enumerate(dataloader):\n",
    "        # 清空 optimizer\n",
    "        optimizer.zero_grad()\n",
    "        # 處理 input\n",
    "        inputs, hard_labels = batch_data\n",
    "        inputs = inputs.cuda()\n",
    "        hard_labels = torch.LongTensor(hard_labels).cuda()\n",
    "        # 因為Teacher沒有要backprop，所以我們使用torch.no_grad\n",
    "        # 告訴torch不要暫存中間值(去做backprop)以浪費記憶體空間。\n",
    "        with torch.no_grad():\n",
    "            soft_labels = teacher_net(inputs)\n",
    "\n",
    "        if update:\n",
    "            logits = student_net(inputs)\n",
    "            # 使用我們之前所寫的融合soft label&hard label的loss。\n",
    "            # T=20是原始論文的參數設定。\n",
    "            loss = loss_fn_kd(logits, hard_labels, soft_labels, 20, alpha)\n",
    "            loss.backward()\n",
    "            optimizer.step()    \n",
    "        else:\n",
    "            # 只是算validation acc的話，就開no_grad節省空間。\n",
    "            with torch.no_grad():\n",
    "                logits = student_net(inputs)\n",
    "                loss = loss_fn_kd(logits, hard_labels, soft_labels, 20, alpha)\n",
    "            \n",
    "        total_hit += torch.sum(torch.argmax(logits, dim=1) == hard_labels).item()\n",
    "        total_num += len(inputs)\n",
    "\n",
    "        total_loss += loss.item() * len(inputs)\n",
    "    return total_loss / total_num, total_hit / total_num\n",
    "\n",
    "\n",
    "# TeacherNet永遠都是Eval mode.\n",
    "teacher_net.eval()\n",
    "now_best_acc = 0\n",
    "for epoch in range(30):  # 200\n",
    "    student_net.train()\n",
    "    train_loss, train_acc = run_epoch(train_dataloader, update=True)\n",
    "    valid_loss, valid_acc = run_epoch(valtrain_dataloader, update=True)\n",
    "\n",
    "    print('epoch {:>3d}: train loss: {:6.4f}, acc {:6.4f} valid loss: {:6.4f}, acc {:6.4f}'.format(\n",
    "    epoch, train_loss, train_acc, valid_loss, valid_acc))\n",
    "    train_acc_list.append(train_acc)\n",
    "    train_loss_list.append(train_loss)\n",
    "    val_acc_list.append(valid_acc)\n",
    "    val_loss_list.append(valid_loss)\n",
    "torch.save(student_net.state_dict(), 'student_model.bin')  "
   ]
  },
  {
   "cell_type": "code",
   "execution_count": null,
   "metadata": {},
   "outputs": [],
   "source": [
    "model = StudentNet(base=16)\n",
    "model.load_state_dict(torch.load('student_model.bin'))\n",
    "model.eval()\n",
    "input_tensor = torch.rand(1,3,224,224)\n",
    "script_model = torch.jit.trace(model,input_tensor)\n",
    "script_model.save(\"model.pt\")"
   ]
  },
  {
   "cell_type": "code",
   "execution_count": null,
   "metadata": {},
   "outputs": [],
   "source": [
    "# 把模型保存至obs中，在home page即可下载,记得换为自己的obs路径，保存的模型在test.ipynb中使用\n",
    "mox.file.copy( '/home/ma-user/work/student_model.bin','obs://test-c3a5') "
   ]
  }
 ],
 "metadata": {
  "accelerator": "GPU",
  "colab": {
   "collapsed_sections": [],
   "include_colab_link": true,
   "name": "hw3_CNN.ipynb",
   "provenance": []
  },
  "kernelspec": {
   "display_name": "PyTorch-1.8",
   "language": "python",
   "name": "pytorch-1.8"
  },
  "language_info": {
   "codemirror_mode": {
    "name": "ipython",
    "version": 3
   },
   "file_extension": ".py",
   "mimetype": "text/x-python",
   "name": "python",
   "nbconvert_exporter": "python",
   "pygments_lexer": "ipython3",
   "version": "3.7.10"
  }
 },
 "nbformat": 4,
 "nbformat_minor": 4
}
